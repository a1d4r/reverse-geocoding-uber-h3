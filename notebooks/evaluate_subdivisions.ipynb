{
 "cells": [
  {
   "cell_type": "markdown",
   "source": [
    "## Evaluation of reverse geocoding (countries)\n",
    "\n",
    "First, download [the dataset with locations of countries](https://www.kaggle.com/datasets/liewyousheng/geolocation/code) and put csv files into `datasets/geolocations`\n"
   ],
   "metadata": {
    "collapsed": false,
    "pycharm": {
     "name": "#%% md\n"
    }
   }
  },
  {
   "cell_type": "code",
   "execution_count": 53,
   "metadata": {
    "collapsed": true,
    "pycharm": {
     "name": "#%%\n"
    }
   },
   "outputs": [
    {
     "data": {
      "text/plain": "     id        name  country_id country_code country_name state_code type  \\\n0  3901  Badakhshan           1           AF  Afghanistan        BDS  NaN   \n1  3871     Badghis           1           AF  Afghanistan        BDG  NaN   \n2  3875     Baghlan           1           AF  Afghanistan        BGL  NaN   \n3  3884       Balkh           1           AF  Afghanistan        BAL  NaN   \n4  3872      Bamyan           1           AF  Afghanistan        BAM  NaN   \n\n    latitude  longitude  \n0  36.734772  70.811995  \n1  35.167134  63.769538  \n2  36.178903  68.745306  \n3  36.755060  66.897537  \n4  34.810007  67.821210  ",
      "text/html": "<div>\n<style scoped>\n    .dataframe tbody tr th:only-of-type {\n        vertical-align: middle;\n    }\n\n    .dataframe tbody tr th {\n        vertical-align: top;\n    }\n\n    .dataframe thead th {\n        text-align: right;\n    }\n</style>\n<table border=\"1\" class=\"dataframe\">\n  <thead>\n    <tr style=\"text-align: right;\">\n      <th></th>\n      <th>id</th>\n      <th>name</th>\n      <th>country_id</th>\n      <th>country_code</th>\n      <th>country_name</th>\n      <th>state_code</th>\n      <th>type</th>\n      <th>latitude</th>\n      <th>longitude</th>\n    </tr>\n  </thead>\n  <tbody>\n    <tr>\n      <th>0</th>\n      <td>3901</td>\n      <td>Badakhshan</td>\n      <td>1</td>\n      <td>AF</td>\n      <td>Afghanistan</td>\n      <td>BDS</td>\n      <td>NaN</td>\n      <td>36.734772</td>\n      <td>70.811995</td>\n    </tr>\n    <tr>\n      <th>1</th>\n      <td>3871</td>\n      <td>Badghis</td>\n      <td>1</td>\n      <td>AF</td>\n      <td>Afghanistan</td>\n      <td>BDG</td>\n      <td>NaN</td>\n      <td>35.167134</td>\n      <td>63.769538</td>\n    </tr>\n    <tr>\n      <th>2</th>\n      <td>3875</td>\n      <td>Baghlan</td>\n      <td>1</td>\n      <td>AF</td>\n      <td>Afghanistan</td>\n      <td>BGL</td>\n      <td>NaN</td>\n      <td>36.178903</td>\n      <td>68.745306</td>\n    </tr>\n    <tr>\n      <th>3</th>\n      <td>3884</td>\n      <td>Balkh</td>\n      <td>1</td>\n      <td>AF</td>\n      <td>Afghanistan</td>\n      <td>BAL</td>\n      <td>NaN</td>\n      <td>36.755060</td>\n      <td>66.897537</td>\n    </tr>\n    <tr>\n      <th>4</th>\n      <td>3872</td>\n      <td>Bamyan</td>\n      <td>1</td>\n      <td>AF</td>\n      <td>Afghanistan</td>\n      <td>BAM</td>\n      <td>NaN</td>\n      <td>34.810007</td>\n      <td>67.821210</td>\n    </tr>\n  </tbody>\n</table>\n</div>"
     },
     "execution_count": 53,
     "metadata": {},
     "output_type": "execute_result"
    }
   ],
   "source": [
    "import pandas as pd\n",
    "\n",
    "from geocoding import settings\n",
    "\n",
    "df = pd.read_csv(settings.DATASETS_DIR / \"geolocations\" / \"states.csv\")\n",
    "\n",
    "df.head()"
   ]
  },
  {
   "cell_type": "markdown",
   "source": [
    "Leave only desired columns (coordinates, information about countries). Filter out rows with empty coordinates."
   ],
   "metadata": {
    "collapsed": false,
    "pycharm": {
     "name": "#%% md\n"
    }
   }
  },
  {
   "cell_type": "code",
   "execution_count": 54,
   "outputs": [
    {
     "data": {
      "text/plain": "    latitude  longitude        name country_name state_code\n0  36.734772  70.811995  Badakhshan  Afghanistan        BDS\n1  35.167134  63.769538     Badghis  Afghanistan        BDG\n2  36.178903  68.745306     Baghlan  Afghanistan        BGL\n3  36.755060  66.897537       Balkh  Afghanistan        BAL\n4  34.810007  67.821210      Bamyan  Afghanistan        BAM",
      "text/html": "<div>\n<style scoped>\n    .dataframe tbody tr th:only-of-type {\n        vertical-align: middle;\n    }\n\n    .dataframe tbody tr th {\n        vertical-align: top;\n    }\n\n    .dataframe thead th {\n        text-align: right;\n    }\n</style>\n<table border=\"1\" class=\"dataframe\">\n  <thead>\n    <tr style=\"text-align: right;\">\n      <th></th>\n      <th>latitude</th>\n      <th>longitude</th>\n      <th>name</th>\n      <th>country_name</th>\n      <th>state_code</th>\n    </tr>\n  </thead>\n  <tbody>\n    <tr>\n      <th>0</th>\n      <td>36.734772</td>\n      <td>70.811995</td>\n      <td>Badakhshan</td>\n      <td>Afghanistan</td>\n      <td>BDS</td>\n    </tr>\n    <tr>\n      <th>1</th>\n      <td>35.167134</td>\n      <td>63.769538</td>\n      <td>Badghis</td>\n      <td>Afghanistan</td>\n      <td>BDG</td>\n    </tr>\n    <tr>\n      <th>2</th>\n      <td>36.178903</td>\n      <td>68.745306</td>\n      <td>Baghlan</td>\n      <td>Afghanistan</td>\n      <td>BGL</td>\n    </tr>\n    <tr>\n      <th>3</th>\n      <td>36.755060</td>\n      <td>66.897537</td>\n      <td>Balkh</td>\n      <td>Afghanistan</td>\n      <td>BAL</td>\n    </tr>\n    <tr>\n      <th>4</th>\n      <td>34.810007</td>\n      <td>67.821210</td>\n      <td>Bamyan</td>\n      <td>Afghanistan</td>\n      <td>BAM</td>\n    </tr>\n  </tbody>\n</table>\n</div>"
     },
     "execution_count": 54,
     "metadata": {},
     "output_type": "execute_result"
    }
   ],
   "source": [
    "source_df = df[[\"latitude\", \"longitude\", \"name\", \"country_name\", \"state_code\"]].dropna()\n",
    "source_df.head()"
   ],
   "metadata": {
    "collapsed": false,
    "pycharm": {
     "name": "#%%\n"
    }
   }
  },
  {
   "cell_type": "markdown",
   "source": [
    "Extract coordinates into a separate list"
   ],
   "metadata": {
    "collapsed": false,
    "pycharm": {
     "name": "#%% md\n"
    }
   }
  },
  {
   "cell_type": "code",
   "execution_count": null,
   "outputs": [],
   "source": [
    "points = list(zip(source_df[\"latitude\"], source_df[\"longitude\"]))"
   ],
   "metadata": {
    "collapsed": false,
    "pycharm": {
     "name": "#%%\n"
    }
   }
  },
  {
   "cell_type": "markdown",
   "source": [
    "Run reverse geocoding for these points"
   ],
   "metadata": {
    "collapsed": false,
    "pycharm": {
     "name": "#%% md\n"
    }
   }
  },
  {
   "cell_type": "code",
   "execution_count": null,
   "outputs": [],
   "source": [
    "from geocoding.geocoder import get_countries_subdivisions_by_points\n",
    "\n",
    "subdivisions = get_countries_subdivisions_by_points(points)\n",
    "subdivisions"
   ],
   "metadata": {
    "collapsed": false,
    "pycharm": {
     "name": "#%%\n"
    }
   }
  },
  {
   "cell_type": "code",
   "execution_count": null,
   "outputs": [],
   "source": [
    "result_df = pd.DataFrame(\n",
    "    [\n",
    "        (\n",
    "            *point,\n",
    "            s.name if (s := subdivisions[point]) else None,\n",
    "            s.code if s else None,\n",
    "            s.hasc_code if s else None,\n",
    "        )\n",
    "        for point in points\n",
    "    ],\n",
    "    columns=[\n",
    "        \"latitude\",\n",
    "        \"longitude\",\n",
    "        \"subdivision_name\",\n",
    "        \"subdivision_code\",\n",
    "        \"hasc_code\",\n",
    "    ],\n",
    ")\n",
    "result_df.head()"
   ],
   "metadata": {
    "collapsed": false,
    "pycharm": {
     "name": "#%%\n"
    }
   }
  },
  {
   "cell_type": "code",
   "execution_count": null,
   "outputs": [],
   "source": [
    "merged_df = pd.merge(\n",
    "    source_df, result_df, on=[\"latitude\", \"longitude\"], suffixes=(\"_source\", \"_result\")\n",
    ")\n",
    "merged_df.head()"
   ],
   "metadata": {
    "collapsed": false,
    "pycharm": {
     "name": "#%%\n"
    }
   }
  },
  {
   "cell_type": "markdown",
   "source": [
    "In the source dataset the format of subdivision code varies for different countries. I will compare names of subdivisions calculating Jaro similarity distance between two strings. It is measured by number which ranges from 0 to 1. I set 0.75 as a threshold. I will assume that if the similarity is higher than a threshold, the names are identical."
   ],
   "metadata": {
    "collapsed": false,
    "pycharm": {
     "name": "#%% md\n"
    }
   }
  },
  {
   "cell_type": "code",
   "execution_count": null,
   "outputs": [],
   "source": [
    "import jellyfish\n",
    "\n",
    "SUBDIVISIONS_NAMES = (\n",
    "    \"state\",\n",
    "    \"province\",\n",
    "    \"land\",\n",
    "    \"oblast\",\n",
    "    \"governorate\",\n",
    "    \"canton\",\n",
    "    \"prefectur\",\n",
    "    \"region\",\n",
    "    \"department\",\n",
    "    \"emirate\",\n",
    "    \"circuit\",\n",
    "    \"count\",\n",
    "    \"comarca\",\n",
    "    \"raion\",\n",
    "    \"judet\",\n",
    "    \"district\",\n",
    "    \"municipalit\",\n",
    "    \"commun\",\n",
    ")\n",
    "\n",
    "\n",
    "def clean_name(name):\n",
    "    \"\"\"Remove \"state\", \"province\" etc from the name.\"\"\"\n",
    "    name = name or \"\"\n",
    "    return \"\".join(\n",
    "        [\n",
    "            word\n",
    "            for word in name.split()\n",
    "            if not word.lower().startswith(SUBDIVISIONS_NAMES)\n",
    "        ]\n",
    "    )\n",
    "\n",
    "\n",
    "def similar(s1, s2):\n",
    "    \"\"\"Check if two names are similar.\"\"\"\n",
    "    return jellyfish.jaro_similarity(clean_name(s1), clean_name(s2)) >= 0.75\n",
    "\n",
    "\n",
    "def similar_row(row):\n",
    "    \"\"\"Check name and subdivision_name are similar.\"\"\"\n",
    "    return similar(row[\"name\"], row[\"subdivision_name\"])"
   ],
   "metadata": {
    "collapsed": false,
    "pycharm": {
     "name": "#%%\n"
    }
   }
  },
  {
   "cell_type": "code",
   "execution_count": 66,
   "outputs": [
    {
     "name": "stdout",
     "output_type": "stream",
     "text": [
      "Failed (nulls): 274/5006\n",
      "Wrong: 2657/5006\n",
      "Correct: 2075/5006 (41.45%)\n"
     ]
    }
   ],
   "source": [
    "total_num = len(merged_df)\n",
    "nulls_num = sum(merged_df[\"subdivision_name\"].isnull())\n",
    "wrong_num = sum(\n",
    "    (~merged_df[\"subdivision_name\"].isnull())\n",
    "    & merged_df.apply(lambda row: similar_row(row), axis=1)\n",
    ")\n",
    "correct_num = total_num - nulls_num - wrong_num\n",
    "print(f\"Failed (nulls): {nulls_num}/{total_num}\")\n",
    "print(f\"Wrong: {wrong_num}/{total_num}\")\n",
    "print(f\"Correct: {correct_num}/{total_num} ({correct_num / total_num * 100:.2f}%)\")"
   ],
   "metadata": {
    "collapsed": false,
    "pycharm": {
     "name": "#%%\n"
    }
   }
  },
  {
   "cell_type": "markdown",
   "source": [
    "Show points reverse geocoded incorrectly"
   ],
   "metadata": {
    "collapsed": false,
    "pycharm": {
     "name": "#%% md\n"
    }
   }
  },
  {
   "cell_type": "code",
   "execution_count": 67,
   "outputs": [
    {
     "data": {
      "text/plain": "       latitude  longitude               name country_name state_code  \\\n10    39.298936 -76.616047            Helmand  Afghanistan        HEL   \n26    38.880239 -77.171724           Panjshir  Afghanistan        PAN   \n35    41.494259  20.214716   Bulqizë District      Albania         BU   \n36    39.948136  20.095589   Delvinë District      Albania         DL   \n37    40.644735  20.950664    Devoll District      Albania         DV   \n...         ...        ...                ...          ...        ...   \n4989  23.166969  49.365315   Eastern Province       Zambia         03   \n4992 -15.382193  28.261580  Muchinga Province       Zambia         10   \n4994   6.237375  80.543845  Southern Province       Zambia         07   \n4995   6.901609  80.008775   Western Province       Zambia         01   \n4996 -20.148951  28.533104  Bulawayo Province     Zimbabwe         BU   \n\n        subdivision_name subdivision_code hasc_code  \n10              Maryland         USA.21_1     US.MD  \n26              Virginia         USA.47_1     US.VA  \n35                 Dibër          ALB.2_1     AL.DB  \n36                 Vlorë         ALB.12_1     AL.VR  \n37                 Korçë          ALB.7_1     AL.KE  \n...                  ...              ...       ...  \n4989       Ash Sharqiyah          SAU.8_1     SA.SH  \n4992              Lusaka          ZMB.5_1     ZM.LS  \n4994              Matara         LKA.17_1     LK.MH  \n4995             Colombo          LKA.5_1     LK.CO  \n4996  Matabeleland North          ZWE.8_1     ZW.MN  \n\n[2349 rows x 8 columns]",
      "text/html": "<div>\n<style scoped>\n    .dataframe tbody tr th:only-of-type {\n        vertical-align: middle;\n    }\n\n    .dataframe tbody tr th {\n        vertical-align: top;\n    }\n\n    .dataframe thead th {\n        text-align: right;\n    }\n</style>\n<table border=\"1\" class=\"dataframe\">\n  <thead>\n    <tr style=\"text-align: right;\">\n      <th></th>\n      <th>latitude</th>\n      <th>longitude</th>\n      <th>name</th>\n      <th>country_name</th>\n      <th>state_code</th>\n      <th>subdivision_name</th>\n      <th>subdivision_code</th>\n      <th>hasc_code</th>\n    </tr>\n  </thead>\n  <tbody>\n    <tr>\n      <th>10</th>\n      <td>39.298936</td>\n      <td>-76.616047</td>\n      <td>Helmand</td>\n      <td>Afghanistan</td>\n      <td>HEL</td>\n      <td>Maryland</td>\n      <td>USA.21_1</td>\n      <td>US.MD</td>\n    </tr>\n    <tr>\n      <th>26</th>\n      <td>38.880239</td>\n      <td>-77.171724</td>\n      <td>Panjshir</td>\n      <td>Afghanistan</td>\n      <td>PAN</td>\n      <td>Virginia</td>\n      <td>USA.47_1</td>\n      <td>US.VA</td>\n    </tr>\n    <tr>\n      <th>35</th>\n      <td>41.494259</td>\n      <td>20.214716</td>\n      <td>Bulqizë District</td>\n      <td>Albania</td>\n      <td>BU</td>\n      <td>Dibër</td>\n      <td>ALB.2_1</td>\n      <td>AL.DB</td>\n    </tr>\n    <tr>\n      <th>36</th>\n      <td>39.948136</td>\n      <td>20.095589</td>\n      <td>Delvinë District</td>\n      <td>Albania</td>\n      <td>DL</td>\n      <td>Vlorë</td>\n      <td>ALB.12_1</td>\n      <td>AL.VR</td>\n    </tr>\n    <tr>\n      <th>37</th>\n      <td>40.644735</td>\n      <td>20.950664</td>\n      <td>Devoll District</td>\n      <td>Albania</td>\n      <td>DV</td>\n      <td>Korçë</td>\n      <td>ALB.7_1</td>\n      <td>AL.KE</td>\n    </tr>\n    <tr>\n      <th>...</th>\n      <td>...</td>\n      <td>...</td>\n      <td>...</td>\n      <td>...</td>\n      <td>...</td>\n      <td>...</td>\n      <td>...</td>\n      <td>...</td>\n    </tr>\n    <tr>\n      <th>4989</th>\n      <td>23.166969</td>\n      <td>49.365315</td>\n      <td>Eastern Province</td>\n      <td>Zambia</td>\n      <td>03</td>\n      <td>Ash Sharqiyah</td>\n      <td>SAU.8_1</td>\n      <td>SA.SH</td>\n    </tr>\n    <tr>\n      <th>4992</th>\n      <td>-15.382193</td>\n      <td>28.261580</td>\n      <td>Muchinga Province</td>\n      <td>Zambia</td>\n      <td>10</td>\n      <td>Lusaka</td>\n      <td>ZMB.5_1</td>\n      <td>ZM.LS</td>\n    </tr>\n    <tr>\n      <th>4994</th>\n      <td>6.237375</td>\n      <td>80.543845</td>\n      <td>Southern Province</td>\n      <td>Zambia</td>\n      <td>07</td>\n      <td>Matara</td>\n      <td>LKA.17_1</td>\n      <td>LK.MH</td>\n    </tr>\n    <tr>\n      <th>4995</th>\n      <td>6.901609</td>\n      <td>80.008775</td>\n      <td>Western Province</td>\n      <td>Zambia</td>\n      <td>01</td>\n      <td>Colombo</td>\n      <td>LKA.5_1</td>\n      <td>LK.CO</td>\n    </tr>\n    <tr>\n      <th>4996</th>\n      <td>-20.148951</td>\n      <td>28.533104</td>\n      <td>Bulawayo Province</td>\n      <td>Zimbabwe</td>\n      <td>BU</td>\n      <td>Matabeleland North</td>\n      <td>ZWE.8_1</td>\n      <td>ZW.MN</td>\n    </tr>\n  </tbody>\n</table>\n<p>2349 rows × 8 columns</p>\n</div>"
     },
     "execution_count": 67,
     "metadata": {},
     "output_type": "execute_result"
    }
   ],
   "source": [
    "merged_df[merged_df.apply(lambda row: not similar_row(row), axis=1)]"
   ],
   "metadata": {
    "collapsed": false,
    "pycharm": {
     "name": "#%%\n"
    }
   }
  }
 ],
 "metadata": {
  "kernelspec": {
   "display_name": "Python 3",
   "language": "python",
   "name": "python3"
  },
  "language_info": {
   "codemirror_mode": {
    "name": "ipython",
    "version": 2
   },
   "file_extension": ".py",
   "mimetype": "text/x-python",
   "name": "python",
   "nbconvert_exporter": "python",
   "pygments_lexer": "ipython2",
   "version": "2.7.6"
  }
 },
 "nbformat": 4,
 "nbformat_minor": 0
}