{
 "cells": [
  {
   "cell_type": "markdown",
   "source": [
    "## Evaluation of reverse geocoding (countries)\n",
    "\n",
    "First, download [the dataset with locations of countries](https://www.kaggle.com/datasets/liewyousheng/geolocation/code) and put csv files into `datasets/geolocations`"
   ],
   "metadata": {
    "collapsed": false,
    "pycharm": {
     "name": "#%% md\n"
    }
   }
  },
  {
   "cell_type": "code",
   "execution_count": 17,
   "outputs": [
    {
     "data": {
      "text/plain": "   id            name iso3 iso2  numeric_code phone_code    capital currency  \\\n0   1     Afghanistan  AFG   AF             4         93      Kabul      AFN   \n1   2   Aland Islands  ALA   AX           248    +358-18  Mariehamn      EUR   \n2   3         Albania  ALB   AL             8        355     Tirana      ALL   \n3   4         Algeria  DZA   DZ            12        213    Algiers      DZD   \n4   5  American Samoa  ASM   AS            16     +1-684  Pago Pago      USD   \n\n    currency_name currency_symbol  tld          native   region  \\\n0  Afghan afghani               ؋  .af       افغانستان     Asia   \n1            Euro               €  .ax           Åland   Europe   \n2    Albanian lek             Lek  .al       Shqipëria   Europe   \n3  Algerian dinar              دج  .dz         الجزائر   Africa   \n4       US Dollar               $  .as  American Samoa  Oceania   \n\n         subregion                                          timezones  \\\n0    Southern Asia  [{zoneName:'Asia\\/Kabul',gmtOffset:16200,gmtOf...   \n1  Northern Europe  [{zoneName:'Europe\\/Mariehamn',gmtOffset:7200,...   \n2  Southern Europe  [{zoneName:'Europe\\/Tirane',gmtOffset:3600,gmt...   \n3  Northern Africa  [{zoneName:'Africa\\/Algiers',gmtOffset:3600,gm...   \n4        Polynesia  [{zoneName:'Pacific\\/Pago_Pago',gmtOffset:-396...   \n\n    latitude  longitude emoji           emojiU  \n0  33.000000       65.0    🇦🇫  U+1F1E6 U+1F1EB  \n1  60.116667       19.9    🇦🇽  U+1F1E6 U+1F1FD  \n2  41.000000       20.0    🇦🇱  U+1F1E6 U+1F1F1  \n3  28.000000        3.0    🇩🇿  U+1F1E9 U+1F1FF  \n4 -14.333333     -170.0    🇦🇸  U+1F1E6 U+1F1F8  ",
      "text/html": "<div>\n<style scoped>\n    .dataframe tbody tr th:only-of-type {\n        vertical-align: middle;\n    }\n\n    .dataframe tbody tr th {\n        vertical-align: top;\n    }\n\n    .dataframe thead th {\n        text-align: right;\n    }\n</style>\n<table border=\"1\" class=\"dataframe\">\n  <thead>\n    <tr style=\"text-align: right;\">\n      <th></th>\n      <th>id</th>\n      <th>name</th>\n      <th>iso3</th>\n      <th>iso2</th>\n      <th>numeric_code</th>\n      <th>phone_code</th>\n      <th>capital</th>\n      <th>currency</th>\n      <th>currency_name</th>\n      <th>currency_symbol</th>\n      <th>tld</th>\n      <th>native</th>\n      <th>region</th>\n      <th>subregion</th>\n      <th>timezones</th>\n      <th>latitude</th>\n      <th>longitude</th>\n      <th>emoji</th>\n      <th>emojiU</th>\n    </tr>\n  </thead>\n  <tbody>\n    <tr>\n      <th>0</th>\n      <td>1</td>\n      <td>Afghanistan</td>\n      <td>AFG</td>\n      <td>AF</td>\n      <td>4</td>\n      <td>93</td>\n      <td>Kabul</td>\n      <td>AFN</td>\n      <td>Afghan afghani</td>\n      <td>؋</td>\n      <td>.af</td>\n      <td>افغانستان</td>\n      <td>Asia</td>\n      <td>Southern Asia</td>\n      <td>[{zoneName:'Asia\\/Kabul',gmtOffset:16200,gmtOf...</td>\n      <td>33.000000</td>\n      <td>65.0</td>\n      <td>🇦🇫</td>\n      <td>U+1F1E6 U+1F1EB</td>\n    </tr>\n    <tr>\n      <th>1</th>\n      <td>2</td>\n      <td>Aland Islands</td>\n      <td>ALA</td>\n      <td>AX</td>\n      <td>248</td>\n      <td>+358-18</td>\n      <td>Mariehamn</td>\n      <td>EUR</td>\n      <td>Euro</td>\n      <td>€</td>\n      <td>.ax</td>\n      <td>Åland</td>\n      <td>Europe</td>\n      <td>Northern Europe</td>\n      <td>[{zoneName:'Europe\\/Mariehamn',gmtOffset:7200,...</td>\n      <td>60.116667</td>\n      <td>19.9</td>\n      <td>🇦🇽</td>\n      <td>U+1F1E6 U+1F1FD</td>\n    </tr>\n    <tr>\n      <th>2</th>\n      <td>3</td>\n      <td>Albania</td>\n      <td>ALB</td>\n      <td>AL</td>\n      <td>8</td>\n      <td>355</td>\n      <td>Tirana</td>\n      <td>ALL</td>\n      <td>Albanian lek</td>\n      <td>Lek</td>\n      <td>.al</td>\n      <td>Shqipëria</td>\n      <td>Europe</td>\n      <td>Southern Europe</td>\n      <td>[{zoneName:'Europe\\/Tirane',gmtOffset:3600,gmt...</td>\n      <td>41.000000</td>\n      <td>20.0</td>\n      <td>🇦🇱</td>\n      <td>U+1F1E6 U+1F1F1</td>\n    </tr>\n    <tr>\n      <th>3</th>\n      <td>4</td>\n      <td>Algeria</td>\n      <td>DZA</td>\n      <td>DZ</td>\n      <td>12</td>\n      <td>213</td>\n      <td>Algiers</td>\n      <td>DZD</td>\n      <td>Algerian dinar</td>\n      <td>دج</td>\n      <td>.dz</td>\n      <td>الجزائر</td>\n      <td>Africa</td>\n      <td>Northern Africa</td>\n      <td>[{zoneName:'Africa\\/Algiers',gmtOffset:3600,gm...</td>\n      <td>28.000000</td>\n      <td>3.0</td>\n      <td>🇩🇿</td>\n      <td>U+1F1E9 U+1F1FF</td>\n    </tr>\n    <tr>\n      <th>4</th>\n      <td>5</td>\n      <td>American Samoa</td>\n      <td>ASM</td>\n      <td>AS</td>\n      <td>16</td>\n      <td>+1-684</td>\n      <td>Pago Pago</td>\n      <td>USD</td>\n      <td>US Dollar</td>\n      <td>$</td>\n      <td>.as</td>\n      <td>American Samoa</td>\n      <td>Oceania</td>\n      <td>Polynesia</td>\n      <td>[{zoneName:'Pacific\\/Pago_Pago',gmtOffset:-396...</td>\n      <td>-14.333333</td>\n      <td>-170.0</td>\n      <td>🇦🇸</td>\n      <td>U+1F1E6 U+1F1F8</td>\n    </tr>\n  </tbody>\n</table>\n</div>"
     },
     "execution_count": 17,
     "metadata": {},
     "output_type": "execute_result"
    }
   ],
   "source": [
    "import pandas as pd\n",
    "\n",
    "from geocoding import settings\n",
    "\n",
    "df = pd.read_csv(settings.DATASETS_DIR / \"geolocations\" / \"countries.csv\")\n",
    "\n",
    "df.head()"
   ],
   "metadata": {
    "collapsed": false,
    "pycharm": {
     "name": "#%%\n"
    }
   }
  },
  {
   "cell_type": "markdown",
   "source": [
    "Leave only desired columns (coordinates, information about countries)"
   ],
   "metadata": {
    "collapsed": false,
    "pycharm": {
     "name": "#%% md\n"
    }
   }
  },
  {
   "cell_type": "code",
   "execution_count": 18,
   "outputs": [
    {
     "data": {
      "text/plain": "    latitude  longitude            name iso3\n0  33.000000       65.0     Afghanistan  AFG\n1  60.116667       19.9   Aland Islands  ALA\n2  41.000000       20.0         Albania  ALB\n3  28.000000        3.0         Algeria  DZA\n4 -14.333333     -170.0  American Samoa  ASM",
      "text/html": "<div>\n<style scoped>\n    .dataframe tbody tr th:only-of-type {\n        vertical-align: middle;\n    }\n\n    .dataframe tbody tr th {\n        vertical-align: top;\n    }\n\n    .dataframe thead th {\n        text-align: right;\n    }\n</style>\n<table border=\"1\" class=\"dataframe\">\n  <thead>\n    <tr style=\"text-align: right;\">\n      <th></th>\n      <th>latitude</th>\n      <th>longitude</th>\n      <th>name</th>\n      <th>iso3</th>\n    </tr>\n  </thead>\n  <tbody>\n    <tr>\n      <th>0</th>\n      <td>33.000000</td>\n      <td>65.0</td>\n      <td>Afghanistan</td>\n      <td>AFG</td>\n    </tr>\n    <tr>\n      <th>1</th>\n      <td>60.116667</td>\n      <td>19.9</td>\n      <td>Aland Islands</td>\n      <td>ALA</td>\n    </tr>\n    <tr>\n      <th>2</th>\n      <td>41.000000</td>\n      <td>20.0</td>\n      <td>Albania</td>\n      <td>ALB</td>\n    </tr>\n    <tr>\n      <th>3</th>\n      <td>28.000000</td>\n      <td>3.0</td>\n      <td>Algeria</td>\n      <td>DZA</td>\n    </tr>\n    <tr>\n      <th>4</th>\n      <td>-14.333333</td>\n      <td>-170.0</td>\n      <td>American Samoa</td>\n      <td>ASM</td>\n    </tr>\n  </tbody>\n</table>\n</div>"
     },
     "execution_count": 18,
     "metadata": {},
     "output_type": "execute_result"
    }
   ],
   "source": [
    "source_df = df[[\"latitude\", \"longitude\", \"name\", \"iso3\"]].dropna()\n",
    "source_df.head()"
   ],
   "metadata": {
    "collapsed": false,
    "pycharm": {
     "name": "#%%\n"
    }
   }
  },
  {
   "cell_type": "markdown",
   "source": [
    "Extract coordinates into a separate list"
   ],
   "metadata": {
    "collapsed": false,
    "pycharm": {
     "name": "#%% md\n"
    }
   }
  },
  {
   "cell_type": "code",
   "execution_count": 19,
   "outputs": [],
   "source": [
    "points = list(zip(source_df[\"latitude\"], source_df[\"longitude\"]))"
   ],
   "metadata": {
    "collapsed": false,
    "pycharm": {
     "name": "#%%\n"
    }
   }
  },
  {
   "cell_type": "markdown",
   "source": [
    "Run reverse geocoding for these points"
   ],
   "metadata": {
    "collapsed": false,
    "pycharm": {
     "name": "#%% md\n"
    }
   }
  },
  {
   "cell_type": "code",
   "execution_count": 20,
   "outputs": [
    {
     "data": {
      "text/plain": "{(33.0,\n  65.0): HexCountry(hex_id=600163863987486719, id=1, name='Afghanistan', code='AFG'),\n (60.116667,\n  19.9): HexCountry(hex_id=599128543867174911, id=4, name='Åland', code='ALA'),\n (41.0,\n  20.0): HexCountry(hex_id=599521116762931199, id=5, name='Albania', code='ALB'),\n (28.0,\n  3.0): HexCountry(hex_id=599980501096202239, id=64, name='Algeria', code='DZA'),\n (-14.33333333, -170.0): None,\n (42.5,\n  1.5): HexCountry(hex_id=599988255659655167, id=69, name='Spain', code='ESP'),\n (-12.5,\n  18.5): HexCountry(hex_id=601622808543363071, id=2, name='Angola', code='AGO'),\n (18.25, -63.16666666): None,\n (-74.65,\n  4.48): HexCountry(hex_id=603050037986983935, id=11, name='Antarctica', code='ATA'),\n (17.05,\n  -61.8): HexCountry(hex_id=600638818650947583, id=13, name='Antigua and Barbuda', code='ATG'),\n (-34.0,\n  -64.0): HexCountry(hex_id=602414522413613055, id=8, name='Argentina', code='ARG'),\n (40.0,\n  45.0): HexCountry(hex_id=599752897894285311, id=9, name='Armenia', code='ARM'),\n (12.5,\n  -69.96666666): HexCountry(hex_id=600798675186221055, id=0, name='Aruba', code='ABW'),\n (-27.0,\n  133.0): HexCountry(hex_id=602216950696771583, id=14, name='Australia', code='AUS'),\n (47.33333333,\n  13.33333333): HexCountry(hex_id=599533535660867583, id=15, name='Austria', code='AUT'),\n (40.5,\n  47.5): HexCountry(hex_id=599753374635655167, id=16, name='Azerbaijan', code='AZE'),\n (24.25, -76.0): None,\n (26.0,\n  50.55): HexCountry(hex_id=600446487867949055, id=24, name='Bahrain', code='BHR'),\n (24.0,\n  90.0): HexCountry(hex_id=600050848365543423, id=22, name='Bangladesh', code='BGD'),\n (13.16666666,\n  -59.53333333): HexCountry(hex_id=600640298267181055, id=33, name='Barbados', code='BRB'),\n (53.0,\n  28.0): HexCountry(hex_id=599529198817640447, id=28, name='Belarus', code='BLR'),\n (50.83333333,\n  4.0): HexCountry(hex_id=599535402897899519, id=18, name='Belgium', code='BEL'),\n (17.25,\n  -88.75): HexCountry(hex_id=600195791700623359, id=29, name='Belize', code='BLZ'),\n (9.5,\n  2.25): HexCountry(hex_id=600537996441157631, id=19, name='Benin', code='BEN'),\n (32.33333333,\n  -64.75): HexCountry(hex_id=599722851376824319, id=30, name='Bermuda', code='BMU'),\n (27.5,\n  90.5): HexCountry(hex_id=600035065434472447, id=35, name='Bhutan', code='BTN'),\n (-17.0,\n  -65.0): HexCountry(hex_id=601426362107953151, id=31, name='Bolivia', code='BOL'),\n (12.15,\n  -68.266667): HexCountry(hex_id=600795447518298111, id=20, name='Bonaire, Sint Eustatius and Saba', code='BES'),\n (44.0,\n  18.0): HexCountry(hex_id=599518139276853247, id=26, name='Bosnia and Herzegovina', code='BIH'),\n (-22.0,\n  24.0): HexCountry(hex_id=601641975908663295, id=37, name='Botswana', code='BWA'),\n (-54.43333333, 3.4): None,\n (-10.0,\n  -55.0): HexCountry(hex_id=601434813529849855, id=32, name='Brazil', code='BRA'),\n (-6.0, 71.5): None,\n (4.5,\n  114.66666666): HexCountry(hex_id=600809631647793151, id=34, name='Brunei', code='BRN'),\n (43.0,\n  25.0): HexCountry(hex_id=599520069864652799, id=23, name='Bulgaria', code='BGR'),\n (13.0,\n  -2.0): HexCountry(hex_id=600554741444902911, id=21, name='Burkina Faso', code='BFA'),\n (-3.5,\n  30.0): HexCountry(hex_id=600858515891814399, id=17, name='Burundi', code='BDI'),\n (13.0,\n  105.0): HexCountry(hex_id=600764547376087039, id=119, name='Cambodia', code='KHM'),\n (6.0,\n  12.0): HexCountry(hex_id=600542054111510527, id=45, name='Cameroon', code='CMR'),\n (60.0,\n  -95.0): HexCountry(hex_id=599234307436838911, id=39, name='Canada', code='CAN'),\n (16.0, -24.0): None,\n (19.5, -80.5): None,\n (7.0,\n  21.0): HexCountry(hex_id=600870497776828415, id=38, name='Central African Republic', code='CAF'),\n (15.0,\n  19.0): HexCountry(hex_id=600864835936190463, id=216, name='Chad', code='TCD'),\n (-30.0,\n  -71.0): HexCountry(hex_id=602111879690584063, id=42, name='Chile', code='CHL'),\n (35.0,\n  105.0): HexCountry(hex_id=600119207065026559, id=43, name='China', code='CHN'),\n (-10.5,\n  105.66666666): HexCountry(hex_id=601444064889405439, id=55, name='Christmas Island', code='CXR'),\n (-12.5, 96.83333333): None,\n (4.0,\n  -72.0): HexCountry(hex_id=600778836732280831, id=49, name='Colombia', code='COL'),\n (-12.16666666, 44.25): None,\n (-1.0,\n  15.0): HexCountry(hex_id=601277154944090111, id=47, name='Republic of Congo', code='COG'),\n (-21.23333333, -159.76666666): None,\n (10.0,\n  -84.0): HexCountry(hex_id=600903561508814847, id=52, name='Costa Rica', code='CRI'),\n (8.0,\n  -5.0): HexCountry(hex_id=601038506160029695, id=44, name=\"Côte d'Ivoire\", code='CIV'),\n (45.16666666,\n  15.5): HexCountry(hex_id=599518381942505471, id=99, name='Croatia', code='HRV'),\n (21.5, -80.0): None,\n (12.116667,\n  -68.933333): HexCountry(hex_id=600795557039964159, id=54, name='Curaçao', code='CUW'),\n (35.0,\n  33.0): HexCountry(hex_id=600092397879164927, id=57, name='Cyprus', code='CYP'),\n (49.75,\n  15.5): HexCountry(hex_id=599509920856932351, id=58, name='Czech Republic', code='CZE'),\n (0.0,\n  25.0): HexCountry(hex_id=600852883042205695, id=46, name='Democratic Republic of the Congo', code='COD'),\n (56.0,\n  10.0): HexCountry(hex_id=599526451112312831, id=62, name='Denmark', code='DNK'),\n (11.5,\n  43.0): HexCountry(hex_id=600435897552338943, id=60, name='Djibouti', code='DJI'),\n (15.41666666,\n  -61.33333333): HexCountry(hex_id=600637079189192703, id=61, name='Dominica', code='DMA'),\n (19.0,\n  -70.66666666): HexCountry(hex_id=600330349804781567, id=63, name='Dominican Republic', code='DOM'),\n (-8.83333333,\n  125.91666666): HexCountry(hex_id=601585445549113343, id=222, name='Timor-Leste', code='TLS'),\n (-2.0,\n  -77.5): HexCountry(hex_id=600788149295120383, id=65, name='Ecuador', code='ECU'),\n (27.0,\n  30.0): HexCountry(hex_id=600075344711516159, id=66, name='Egypt', code='EGY'),\n (13.83333333,\n  -88.91666666): HexCountry(hex_id=600195124906950655, id=200, name='El Salvador', code='SLV'),\n (2.0,\n  10.0): HexCountry(hex_id=601282395877933055, id=88, name='Equatorial Guinea', code='GNQ'),\n (15.0,\n  39.0): HexCountry(hex_id=600432517413076991, id=67, name='Eritrea', code='ERI'),\n (59.0,\n  26.0): HexCountry(hex_id=599281404974465023, id=70, name='Estonia', code='EST'),\n (8.0,\n  38.0): HexCountry(hex_id=601138829079871487, id=71, name='Ethiopia', code='ETH'),\n (-51.75,\n  -59.0): HexCountry(hex_id=602891960641912831, id=74, name='Falkland Islands', code='FLK'),\n (62.0, -7.0): None,\n (-18.0, 175.0): None,\n (64.0,\n  26.0): HexCountry(hex_id=599133809497079807, id=72, name='Finland', code='FIN'),\n (46.0,\n  2.0): HexCountry(hex_id=599408462991982591, id=75, name='France', code='FRA'),\n (4.0,\n  -53.0): HexCountry(hex_id=600651143059603455, id=93, name='French Guiana', code='GUF'),\n (-15.0, -140.0): None,\n (-49.25,\n  69.167): HexCountry(hex_id=602929511540981759, id=12, name='French Southern Territories', code='ATF'),\n (-1.0,\n  11.75): HexCountry(hex_id=601277565113466879, id=78, name='Gabon', code='GAB'),\n (13.46666666, -16.56666666): None,\n (42.0,\n  43.5): HexCountry(hex_id=599756013893058559, id=80, name='Georgia', code='GEO'),\n (51.0,\n  9.0): HexCountry(hex_id=599535934400102399, id=59, name='Germany', code='DEU'),\n (8.0,\n  -2.0): HexCountry(hex_id=601037420607045631, id=82, name='Ghana', code='GHA'),\n (36.13333333, -5.35): None,\n (39.0,\n  22.0): HexCountry(hex_id=599521028716101631, id=89, name='Greece', code='GRC'),\n (72.0,\n  -40.0): HexCountry(hex_id=599085629627695103, id=91, name='Greenland', code='GRL'),\n (12.11666666,\n  -61.66666666): HexCountry(hex_id=600639458601074687, id=90, name='Grenada', code='GRD'),\n (16.25,\n  -61.583333): HexCountry(hex_id=600637050198163455, id=85, name='Guadeloupe', code='GLP'),\n (13.46666666,\n  144.78333333): HexCountry(hex_id=600373600125452287, id=94, name='Guam', code='GUM'),\n (15.5,\n  -90.25): HexCountry(hex_id=600899395390537727, id=92, name='Guatemala', code='GTM'),\n (49.46666666, -2.58333333): None,\n (11.0,\n  -10.0): HexCountry(hex_id=600462993427267583, id=84, name='Guinea', code='GIN'),\n (12.0,\n  -15.0): HexCountry(hex_id=600473345372192767, id=87, name='Guinea-Bissau', code='GNB'),\n (5.0,\n  -59.0): HexCountry(hex_id=600658141708812287, id=95, name='Guyana', code='GUY'),\n (19.0,\n  -72.41666666): HexCountry(hex_id=600793268896137215, id=100, name='Haiti', code='HTI'),\n (-53.1, 72.51666666): None,\n (15.0,\n  -86.5): HexCountry(hex_id=600196260925800447, id=98, name='Honduras', code='HND'),\n (22.25, 114.16666666): None,\n (47.0,\n  20.0): HexCountry(hex_id=599508509960175615, id=101, name='Hungary', code='HUN'),\n (65.0,\n  -18.0): HexCountry(hex_id=599106716843376639, id=109, name='Iceland', code='ISL'),\n (20.0,\n  77.0): HexCountry(hex_id=600677605426855935, id=104, name='India', code='IND'),\n (-5.0,\n  120.0): HexCountry(hex_id=601600358749306879, id=102, name='Indonesia', code='IDN'),\n (32.0,\n  53.0): HexCountry(hex_id=600159747261333503, id=107, name='Iran', code='IRN'),\n (33.0,\n  44.0): HexCountry(hex_id=599763974614941695, id=108, name='Iraq', code='IRQ'),\n (53.0,\n  -8.0): HexCountry(hex_id=599404126148755455, id=106, name='Ireland', code='IRL'),\n (31.5,\n  34.75): HexCountry(hex_id=599782917568200703, id=110, name='Israel', code='ISR'),\n (42.83333333,\n  12.83333333): HexCountry(hex_id=599515597729955839, id=111, name='Italy', code='ITA'),\n (18.25,\n  -77.5): HexCountry(hex_id=600204846565425151, id=112, name='Jamaica', code='JAM'),\n (36.0,\n  138.0): HexCountry(hex_id=599796081642962943, id=115, name='Japan', code='JPN'),\n (49.25,\n  -2.16666666): HexCountry(hex_id=599407732847542271, id=113, name='Jersey', code='JEY'),\n (31.0,\n  36.0): HexCountry(hex_id=599782657722679295, id=114, name='Jordan', code='JOR'),\n (48.0,\n  68.0): HexCountry(hex_id=599544322471231487, id=116, name='Kazakhstan', code='KAZ'),\n (1.0,\n  38.0): HexCountry(hex_id=601129576646574079, id=117, name='Kenya', code='KEN'),\n (1.41666666, 173.0): None,\n (42.5612909, 20.3403035): None,\n (29.5,\n  45.75): HexCountry(hex_id=599763009321041919, id=108, name='Iraq', code='IRQ'),\n (41.0,\n  75.0): HexCountry(hex_id=599558641892196351, id=118, name='Kyrgyzstan', code='KGZ'),\n (18.0,\n  105.0): HexCountry(hex_id=600129577263562751, id=124, name='Laos', code='LAO'),\n (57.0,\n  25.0): HexCountry(hex_id=599530716014837759, id=134, name='Latvia', code='LVA'),\n (33.83333333,\n  35.83333333): HexCountry(hex_id=599782611551780863, id=125, name='Lebanon', code='LBN'),\n (-29.5,\n  28.5): HexCountry(hex_id=602301738719903743, id=131, name='Lesotho', code='LSO'),\n (6.5,\n  -9.5): HexCountry(hex_id=601046123284529151, id=126, name='Liberia', code='LBR'),\n (25.0,\n  17.0): HexCountry(hex_id=600080739190439935, id=127, name='Libya', code='LBY'),\n (47.26666666,\n  9.53333333): HexCountry(hex_id=599533870668316671, id=129, name='Liechtenstein', code='LIE'),\n (56.0,\n  24.0): HexCountry(hex_id=599528821934260223, id=132, name='Lithuania', code='LTU'),\n (49.75,\n  6.16666666): HexCountry(hex_id=599535362095710207, id=133, name='Luxembourg', code='LUX'),\n (22.16666666,\n  113.55): HexCountry(hex_id=600122476608880639, id=135, name='Macao', code='MAC'),\n (41.83333333,\n  22.0): HexCountry(hex_id=599520155763998719, id=144, name='Macedonia', code='MKD'),\n (-20.0,\n  47.0): HexCountry(hex_id=601832247254843391, id=140, name='Madagascar', code='MDG'),\n (-13.5,\n  34.0): HexCountry(hex_id=601644867495395327, id=156, name='Malawi', code='MWI'),\n (2.5,\n  112.5): HexCountry(hex_id=600819768844353535, id=157, name='Malaysia', code='MYS'),\n (3.25, 73.0): None,\n (17.0,\n  -4.0): HexCountry(hex_id=600479396981112831, id=145, name='Mali', code='MLI'),\n (35.83333333, 14.58333333): None,\n (54.25,\n  -4.5): HexCountry(hex_id=599424055870750719, id=103, name='Isle of Man', code='IMN'),\n (9.0, 168.0): None,\n (14.666667,\n  -61.0): HexCountry(hex_id=600637238102982655, id=154, name='Martinique', code='MTQ'),\n (20.0,\n  -12.0): HexCountry(hex_id=600458989444005887, id=152, name='Mauritania', code='MRT'),\n (-20.28333333,\n  57.55): HexCountry(hex_id=601833267309576191, id=155, name='Mauritius', code='MUS'),\n (-12.83333333,\n  45.16666666): HexCountry(hex_id=601846583855677439, id=158, name='Mayotte', code='MYT'),\n (23.0,\n  -102.0): HexCountry(hex_id=600272477267951615, id=142, name='Mexico', code='MEX'),\n (6.91666666, 158.25): None,\n (47.0,\n  29.0): HexCountry(hex_id=599511080498102271, id=139, name='Moldova', code='MDA'),\n (43.73333333,\n  7.4): HexCountry(hex_id=599988765687021567, id=75, name='France', code='FRA'),\n (46.0,\n  105.0): HexCountry(hex_id=599615027296600063, id=149, name='Mongolia', code='MNG'),\n (42.5,\n  19.3): HexCountry(hex_id=599523196600844287, id=148, name='Montenegro', code='MNE'),\n (16.75,\n  -62.2): HexCountry(hex_id=600638851936944127, id=153, name='Montserrat', code='MSR'),\n (32.0,\n  -5.0): HexCountry(hex_id=599990973300211711, id=137, name='Morocco', code='MAR'),\n (-18.25,\n  35.0): HexCountry(hex_id=601636282929512447, id=151, name='Mozambique', code='MOZ'),\n (22.0,\n  98.0): HexCountry(hex_id=600112150433759231, id=147, name='Myanmar', code='MMR'),\n (-22.0,\n  17.0): HexCountry(hex_id=602016041790341119, id=159, name='Namibia', code='NAM'),\n (-0.53333333,\n  166.91666666): HexCountry(hex_id=601060751943139327, id=169, name='Nauru', code='NRU'),\n (28.0,\n  84.0): HexCountry(hex_id=600037833540894719, id=168, name='Nepal', code='NPL'),\n (52.5,\n  5.75): HexCountry(hex_id=599425812512374783, id=166, name='Netherlands', code='NLD'),\n (-21.5,\n  165.5): HexCountry(hex_id=601781503289982975, id=160, name='New Caledonia', code='NCL'),\n (-41.0, 174.0): None,\n (13.0,\n  -85.0): HexCountry(hex_id=600800817301159935, id=164, name='Nicaragua', code='NIC'),\n (16.0,\n  8.0): HexCountry(hex_id=600529634139832319, id=161, name='Niger', code='NER'),\n (10.0,\n  8.0): HexCountry(hex_id=600528748302827519, id=163, name='Nigeria', code='NGA'),\n (-19.03333333,\n  -169.86666666): HexCountry(hex_id=601717374059544575, id=165, name='Niue', code='NIU'),\n (-29.03333333, 167.95): None,\n (40.0,\n  127.0): HexCountry(hex_id=599847241145909247, id=181, name='North Korea', code='PRK'),\n (15.2,\n  145.75): HexCountry(hex_id=600373711794601983, id=150, name='Northern Mariana Islands', code='MNP'),\n (62.0,\n  10.0): HexCountry(hex_id=599121039485566975, id=167, name='Norway', code='NOR'),\n (21.0,\n  57.0): HexCountry(hex_id=600168206199422975, id=171, name='Oman', code='OMN'),\n (30.0,\n  70.0): HexCountry(hex_id=600144289674035199, id=172, name='Pakistan', code='PAK'),\n (7.5,\n  134.5): HexCountry(hex_id=601003743768477695, id=177, name='Palau', code='PLW'),\n (31.9,\n  35.2): HexCountry(hex_id=599782514915016703, id=184, name='Palestina', code='PSE'),\n (9.0,\n  -80.0): HexCountry(hex_id=600784511457820671, id=173, name='Panama', code='PAN'),\n (-6.0,\n  147.0): HexCountry(hex_id=601733944043372543, id=178, name='Papua New Guinea', code='PNG'),\n (-23.0,\n  -58.0): HexCountry(hex_id=601941125749538815, id=183, name='Paraguay', code='PRY'),\n (-10.0,\n  -76.0): HexCountry(hex_id=601500598470180863, id=175, name='Peru', code='PER'),\n (13.0, 122.0): None,\n (-25.06666666, -130.1): None,\n (52.0,\n  20.0): HexCountry(hex_id=599529774343258111, id=179, name='Poland', code='POL'),\n (39.5,\n  -8.0): HexCountry(hex_id=599981923804119039, id=182, name='Portugal', code='PRT'),\n (18.25,\n  -66.5): HexCountry(hex_id=600329300759019519, id=180, name='Puerto Rico', code='PRI'),\n (25.5,\n  51.25): HexCountry(hex_id=600446233391136767, id=186, name='Qatar', code='QAT'),\n (-21.15,\n  55.5): HexCountry(hex_id=601834218644832255, id=187, name='Reunion', code='REU'),\n (46.0,\n  25.0): HexCountry(hex_id=599512203632050175, id=188, name='Romania', code='ROU'),\n (60.0,\n  100.0): HexCountry(hex_id=599166387897761791, id=189, name='Russia', code='RUS'),\n (-2.0,\n  30.0): HexCountry(hex_id=600858419255050239, id=190, name='Rwanda', code='RWA'),\n (-15.95,\n  -5.7): HexCountry(hex_id=601653490715983871, id=196, name='Saint Helena', code='SHN'),\n (17.33333333, -62.75): None,\n (13.88333333,\n  -60.96666666): HexCountry(hex_id=600637268167753727, id=128, name='Saint Lucia', code='LCA'),\n (46.83333333, -56.33333333): None,\n (13.25, -61.2): None,\n (18.5, -63.41666666): None,\n (18.08333333, -63.95): None,\n (-13.58333333, -172.33333333): None,\n (43.76666666,\n  12.41666666): HexCountry(hex_id=599517739844894719, id=111, name='Italy', code='ITA'),\n (1.0, 7.0): None,\n (25.0,\n  45.0): HexCountry(hex_id=600439559011958783, id=191, name='Saudi Arabia', code='SAU'),\n (14.0,\n  -14.0): HexCountry(hex_id=600458249635889151, id=193, name='Senegal', code='SEN'),\n (44.0,\n  21.0): HexCountry(hex_id=599523368399536127, id=204, name='Serbia', code='SRB'),\n (-4.58333333, 55.66666666): None,\n (8.5,\n  -11.5): HexCountry(hex_id=601049581806944255, id=199, name='Sierra Leone', code='SLE'),\n (1.36666666,\n  103.8): HexCountry(hex_id=600758187603263487, id=194, name='Singapore', code='SGP'),\n (18.033333, -63.05): None,\n (48.66666666,\n  19.5): HexCountry(hex_id=599506608363405311, id=208, name='Slovakia', code='SVK'),\n (46.11666666,\n  14.81666666): HexCountry(hex_id=599507796995604479, id=209, name='Slovenia', code='SVN'),\n (-8.0, 159.0): None,\n (10.0,\n  49.0): HexCountry(hex_id=600730708402503679, id=202, name='Somalia', code='SOM'),\n (-29.0, 24.0): None,\n (-54.5, -37.0): None,\n (37.0,\n  127.5): HexCountry(hex_id=599838818715041791, id=122, name='South Korea', code='KOR'),\n (7.0,\n  30.0): HexCountry(hex_id=600844428399083519, id=205, name='South Sudan', code='SSD'),\n (40.0,\n  -4.0): HexCountry(hex_id=599982330752270335, id=69, name='Spain', code='ESP'),\n (7.0,\n  81.0): HexCountry(hex_id=600685348179148799, id=130, name='Sri Lanka', code='LKA'),\n (15.0,\n  30.0): HexCountry(hex_id=600865824852410367, id=192, name='Sudan', code='SDN'),\n (4.0,\n  -56.0): HexCountry(hex_id=600650022073139199, id=207, name='Suriname', code='SUR'),\n (78.0, 20.0): None,\n (-26.5,\n  31.5): HexCountry(hex_id=602300655314403327, id=211, name='Swaziland', code='SWZ'),\n (62.0,\n  15.0): HexCountry(hex_id=599131330227208191, id=210, name='Sweden', code='SWE'),\n (47.0,\n  8.0): HexCountry(hex_id=599533142671359999, id=41, name='Switzerland', code='CHE'),\n (35.0,\n  38.0): HexCountry(hex_id=599779550313840639, id=214, name='Syria', code='SYR'),\n (23.5,\n  121.0): HexCountry(hex_id=600309329161093119, id=228, name='Taiwan', code='TWN'),\n (39.0,\n  71.0): HexCountry(hex_id=599550841157844991, id=219, name='Tajikistan', code='TJK'),\n (-6.0,\n  35.0): HexCountry(hex_id=601626805010431999, id=229, name='Tanzania', code='TZA'),\n (15.0,\n  100.0): HexCountry(hex_id=600748971677188095, id=218, name='Thailand', code='THA'),\n (8.0,\n  1.16666666): HexCountry(hex_id=600539221580578815, id=217, name='Togo', code='TGO'),\n (-9.0, -172.0): None,\n (-20.0, -175.0): None,\n (11.0, -61.0): None,\n (34.0,\n  9.0): HexCountry(hex_id=599968570750795775, id=225, name='Tunisia', code='TUN'),\n (39.0,\n  35.0): HexCountry(hex_id=599771619656728575, id=226, name='Turkey', code='TUR'),\n (40.0,\n  60.0): HexCountry(hex_id=599569584395124735, id=221, name='Turkmenistan', code='TKM'),\n (21.75, -71.58333333): None,\n (-8.0, 178.0): None,\n (1.0,\n  32.0): HexCountry(hex_id=600857579588943871, id=230, name='Uganda', code='UGA'),\n (49.0,\n  32.0): HexCountry(hex_id=599513822834720767, id=231, name='Ukraine', code='UKR'),\n (24.0,\n  54.0): HexCountry(hex_id=600168440275140607, id=7, name='United Arab Emirates', code='ARE'),\n (54.0,\n  -2.0): HexCountry(hex_id=599423145337683967, id=79, name='United Kingdom', code='GBR'),\n (38.0,\n  -97.0): HexCountry(hex_id=599662892559630335, id=234, name='United States', code='USA'),\n (0.0, 0.0): None,\n (-33.0,\n  -56.0): HexCountry(hex_id=602404985438732287, id=233, name='Uruguay', code='URY'),\n (41.0, 64.0): None,\n (-16.0, 167.0): None,\n (41.9,\n  12.45): HexCountry(hex_id=599515334663208959, id=111, name='Italy', code='ITA'),\n (8.0, -66.0): None,\n (16.16666666, 107.83333333): None,\n (18.431383, -64.62305): None,\n (18.34, -64.93): None,\n (-13.3, -176.2): None,\n (24.5,\n  -13.0): HexCountry(hex_id=600475574460219391, id=68, name='Western Sahara', code='ESH'),\n (15.0, 48.0): None,\n (-15.0, 30.0): None,\n (-20.0, 30.0): None}"
     },
     "execution_count": 20,
     "metadata": {},
     "output_type": "execute_result"
    }
   ],
   "source": [
    "from geocoding.geocoder import get_countries_by_points\n",
    "\n",
    "countries = get_countries_by_points(points)\n",
    "countries"
   ],
   "metadata": {
    "collapsed": false,
    "pycharm": {
     "name": "#%%\n"
    }
   }
  },
  {
   "cell_type": "code",
   "execution_count": 21,
   "outputs": [
    {
     "data": {
      "text/plain": "    latitude  longitude country_name country_code\n0  33.000000       65.0  Afghanistan          AFG\n1  60.116667       19.9        Åland          ALA\n2  41.000000       20.0      Albania          ALB\n3  28.000000        3.0      Algeria          DZA\n4 -14.333333     -170.0         None         None",
      "text/html": "<div>\n<style scoped>\n    .dataframe tbody tr th:only-of-type {\n        vertical-align: middle;\n    }\n\n    .dataframe tbody tr th {\n        vertical-align: top;\n    }\n\n    .dataframe thead th {\n        text-align: right;\n    }\n</style>\n<table border=\"1\" class=\"dataframe\">\n  <thead>\n    <tr style=\"text-align: right;\">\n      <th></th>\n      <th>latitude</th>\n      <th>longitude</th>\n      <th>country_name</th>\n      <th>country_code</th>\n    </tr>\n  </thead>\n  <tbody>\n    <tr>\n      <th>0</th>\n      <td>33.000000</td>\n      <td>65.0</td>\n      <td>Afghanistan</td>\n      <td>AFG</td>\n    </tr>\n    <tr>\n      <th>1</th>\n      <td>60.116667</td>\n      <td>19.9</td>\n      <td>Åland</td>\n      <td>ALA</td>\n    </tr>\n    <tr>\n      <th>2</th>\n      <td>41.000000</td>\n      <td>20.0</td>\n      <td>Albania</td>\n      <td>ALB</td>\n    </tr>\n    <tr>\n      <th>3</th>\n      <td>28.000000</td>\n      <td>3.0</td>\n      <td>Algeria</td>\n      <td>DZA</td>\n    </tr>\n    <tr>\n      <th>4</th>\n      <td>-14.333333</td>\n      <td>-170.0</td>\n      <td>None</td>\n      <td>None</td>\n    </tr>\n  </tbody>\n</table>\n</div>"
     },
     "execution_count": 21,
     "metadata": {},
     "output_type": "execute_result"
    }
   ],
   "source": [
    "result_df = pd.DataFrame(\n",
    "    [\n",
    "        (\n",
    "            *point,\n",
    "            c.name if (c := countries[point]) else None,\n",
    "            c.code if c else None,\n",
    "        )\n",
    "        for point in points\n",
    "    ],\n",
    "    columns=[\"latitude\", \"longitude\", \"country_name\", \"country_code\"],\n",
    ")\n",
    "result_df.head()"
   ],
   "metadata": {
    "collapsed": false,
    "pycharm": {
     "name": "#%%\n"
    }
   }
  },
  {
   "cell_type": "markdown",
   "source": [
    "Merge two dataset on coordinates"
   ],
   "metadata": {
    "collapsed": false,
    "pycharm": {
     "name": "#%% md\n"
    }
   }
  },
  {
   "cell_type": "code",
   "execution_count": 22,
   "outputs": [
    {
     "data": {
      "text/plain": "    latitude  longitude            name iso3 country_name country_code\n0  33.000000       65.0     Afghanistan  AFG  Afghanistan          AFG\n1  60.116667       19.9   Aland Islands  ALA        Åland          ALA\n2  41.000000       20.0         Albania  ALB      Albania          ALB\n3  28.000000        3.0         Algeria  DZA      Algeria          DZA\n4 -14.333333     -170.0  American Samoa  ASM         None         None",
      "text/html": "<div>\n<style scoped>\n    .dataframe tbody tr th:only-of-type {\n        vertical-align: middle;\n    }\n\n    .dataframe tbody tr th {\n        vertical-align: top;\n    }\n\n    .dataframe thead th {\n        text-align: right;\n    }\n</style>\n<table border=\"1\" class=\"dataframe\">\n  <thead>\n    <tr style=\"text-align: right;\">\n      <th></th>\n      <th>latitude</th>\n      <th>longitude</th>\n      <th>name</th>\n      <th>iso3</th>\n      <th>country_name</th>\n      <th>country_code</th>\n    </tr>\n  </thead>\n  <tbody>\n    <tr>\n      <th>0</th>\n      <td>33.000000</td>\n      <td>65.0</td>\n      <td>Afghanistan</td>\n      <td>AFG</td>\n      <td>Afghanistan</td>\n      <td>AFG</td>\n    </tr>\n    <tr>\n      <th>1</th>\n      <td>60.116667</td>\n      <td>19.9</td>\n      <td>Aland Islands</td>\n      <td>ALA</td>\n      <td>Åland</td>\n      <td>ALA</td>\n    </tr>\n    <tr>\n      <th>2</th>\n      <td>41.000000</td>\n      <td>20.0</td>\n      <td>Albania</td>\n      <td>ALB</td>\n      <td>Albania</td>\n      <td>ALB</td>\n    </tr>\n    <tr>\n      <th>3</th>\n      <td>28.000000</td>\n      <td>3.0</td>\n      <td>Algeria</td>\n      <td>DZA</td>\n      <td>Algeria</td>\n      <td>DZA</td>\n    </tr>\n    <tr>\n      <th>4</th>\n      <td>-14.333333</td>\n      <td>-170.0</td>\n      <td>American Samoa</td>\n      <td>ASM</td>\n      <td>None</td>\n      <td>None</td>\n    </tr>\n  </tbody>\n</table>\n</div>"
     },
     "execution_count": 22,
     "metadata": {},
     "output_type": "execute_result"
    }
   ],
   "source": [
    "merged_df = pd.merge(\n",
    "    source_df, result_df, on=[\"latitude\", \"longitude\"], suffixes=(\"_source\", \"_result\")\n",
    ")\n",
    "merged_df.head()"
   ],
   "metadata": {
    "collapsed": false,
    "pycharm": {
     "name": "#%%\n"
    }
   }
  },
  {
   "cell_type": "markdown",
   "source": [
    "Evaluate results"
   ],
   "metadata": {
    "collapsed": false,
    "pycharm": {
     "name": "#%% md\n"
    }
   }
  },
  {
   "cell_type": "code",
   "execution_count": 23,
   "outputs": [
    {
     "name": "stdout",
     "output_type": "stream",
     "text": [
      "Failed (nulls): 58/250\n",
      "Wrong: 5/250\n",
      "Correct: 187/250 (74.80%)\n"
     ]
    }
   ],
   "source": [
    "total_num = len(merged_df)\n",
    "nulls_num = sum(merged_df[\"country_code\"].isnull())\n",
    "wrong_num = sum(\n",
    "    (~merged_df[\"country_code\"].isnull())\n",
    "    & (merged_df[\"iso3\"] != merged_df[\"country_code\"])\n",
    ")\n",
    "correct_num = total_num - nulls_num - wrong_num\n",
    "print(f\"Failed (nulls): {nulls_num}/{total_num}\")\n",
    "print(f\"Wrong: {wrong_num}/{total_num}\")\n",
    "print(f\"Correct: {correct_num}/{total_num} ({correct_num / total_num * 100:.2f}%)\")"
   ],
   "metadata": {
    "collapsed": false,
    "pycharm": {
     "name": "#%%\n"
    }
   }
  },
  {
   "cell_type": "markdown",
   "source": [
    "Show points reverse geocoded incorrectly"
   ],
   "metadata": {
    "collapsed": false,
    "pycharm": {
     "name": "#%% md\n"
    }
   }
  },
  {
   "cell_type": "code",
   "execution_count": 24,
   "outputs": [
    {
     "data": {
      "text/plain": "      latitude   longitude                       name iso3 country_name  \\\n4   -14.333333 -170.000000             American Samoa  ASM         None   \n5    42.500000    1.500000                    Andorra  AND        Spain   \n7    18.250000  -63.166667                   Anguilla  AIA         None   \n16   24.250000  -76.000000                Bahamas The  BHS         None   \n30  -54.433333    3.400000              Bouvet Island  BVT         None   \n..         ...         ...                        ...  ...          ...   \n244  18.340000  -64.930000        Virgin Islands (US)  VIR         None   \n245 -13.300000 -176.200000  Wallis And Futuna Islands  WLF         None   \n247  15.000000   48.000000                      Yemen  YEM         None   \n248 -15.000000   30.000000                     Zambia  ZMB         None   \n249 -20.000000   30.000000                   Zimbabwe  ZWE         None   \n\n    country_code  \n4           None  \n5            ESP  \n7           None  \n16          None  \n30          None  \n..           ...  \n244         None  \n245         None  \n247         None  \n248         None  \n249         None  \n\n[63 rows x 6 columns]",
      "text/html": "<div>\n<style scoped>\n    .dataframe tbody tr th:only-of-type {\n        vertical-align: middle;\n    }\n\n    .dataframe tbody tr th {\n        vertical-align: top;\n    }\n\n    .dataframe thead th {\n        text-align: right;\n    }\n</style>\n<table border=\"1\" class=\"dataframe\">\n  <thead>\n    <tr style=\"text-align: right;\">\n      <th></th>\n      <th>latitude</th>\n      <th>longitude</th>\n      <th>name</th>\n      <th>iso3</th>\n      <th>country_name</th>\n      <th>country_code</th>\n    </tr>\n  </thead>\n  <tbody>\n    <tr>\n      <th>4</th>\n      <td>-14.333333</td>\n      <td>-170.000000</td>\n      <td>American Samoa</td>\n      <td>ASM</td>\n      <td>None</td>\n      <td>None</td>\n    </tr>\n    <tr>\n      <th>5</th>\n      <td>42.500000</td>\n      <td>1.500000</td>\n      <td>Andorra</td>\n      <td>AND</td>\n      <td>Spain</td>\n      <td>ESP</td>\n    </tr>\n    <tr>\n      <th>7</th>\n      <td>18.250000</td>\n      <td>-63.166667</td>\n      <td>Anguilla</td>\n      <td>AIA</td>\n      <td>None</td>\n      <td>None</td>\n    </tr>\n    <tr>\n      <th>16</th>\n      <td>24.250000</td>\n      <td>-76.000000</td>\n      <td>Bahamas The</td>\n      <td>BHS</td>\n      <td>None</td>\n      <td>None</td>\n    </tr>\n    <tr>\n      <th>30</th>\n      <td>-54.433333</td>\n      <td>3.400000</td>\n      <td>Bouvet Island</td>\n      <td>BVT</td>\n      <td>None</td>\n      <td>None</td>\n    </tr>\n    <tr>\n      <th>...</th>\n      <td>...</td>\n      <td>...</td>\n      <td>...</td>\n      <td>...</td>\n      <td>...</td>\n      <td>...</td>\n    </tr>\n    <tr>\n      <th>244</th>\n      <td>18.340000</td>\n      <td>-64.930000</td>\n      <td>Virgin Islands (US)</td>\n      <td>VIR</td>\n      <td>None</td>\n      <td>None</td>\n    </tr>\n    <tr>\n      <th>245</th>\n      <td>-13.300000</td>\n      <td>-176.200000</td>\n      <td>Wallis And Futuna Islands</td>\n      <td>WLF</td>\n      <td>None</td>\n      <td>None</td>\n    </tr>\n    <tr>\n      <th>247</th>\n      <td>15.000000</td>\n      <td>48.000000</td>\n      <td>Yemen</td>\n      <td>YEM</td>\n      <td>None</td>\n      <td>None</td>\n    </tr>\n    <tr>\n      <th>248</th>\n      <td>-15.000000</td>\n      <td>30.000000</td>\n      <td>Zambia</td>\n      <td>ZMB</td>\n      <td>None</td>\n      <td>None</td>\n    </tr>\n    <tr>\n      <th>249</th>\n      <td>-20.000000</td>\n      <td>30.000000</td>\n      <td>Zimbabwe</td>\n      <td>ZWE</td>\n      <td>None</td>\n      <td>None</td>\n    </tr>\n  </tbody>\n</table>\n<p>63 rows × 6 columns</p>\n</div>"
     },
     "execution_count": 24,
     "metadata": {},
     "output_type": "execute_result"
    }
   ],
   "source": [
    "merged_df[merged_df[\"iso3\"] != merged_df[\"country_code\"]]"
   ],
   "metadata": {
    "collapsed": false,
    "pycharm": {
     "name": "#%%\n"
    }
   }
  }
 ],
 "metadata": {
  "kernelspec": {
   "display_name": "Python 3",
   "language": "python",
   "name": "python3"
  },
  "language_info": {
   "codemirror_mode": {
    "name": "ipython",
    "version": 2
   },
   "file_extension": ".py",
   "mimetype": "text/x-python",
   "name": "python",
   "nbconvert_exporter": "python",
   "pygments_lexer": "ipython2",
   "version": "2.7.6"
  }
 },
 "nbformat": 4,
 "nbformat_minor": 0
}