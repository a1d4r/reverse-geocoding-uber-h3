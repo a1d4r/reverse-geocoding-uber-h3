{
 "cells": [
  {
   "cell_type": "markdown",
   "source": [
    "## Evaluation of reverse geocoding (countries)\n",
    "\n",
    "First, download [the dataset with locations of countries](https://www.kaggle.com/datasets/liewyousheng/geolocation/code) and put csv files into `datasets/geolocations`"
   ],
   "metadata": {
    "collapsed": false,
    "pycharm": {
     "name": "#%% md\n"
    }
   }
  },
  {
   "cell_type": "code",
   "execution_count": 1,
   "outputs": [
    {
     "data": {
      "text/plain": "   id            name iso3 iso2  numeric_code phone_code    capital currency  \\\n0   1     Afghanistan  AFG   AF             4         93      Kabul      AFN   \n1   2   Aland Islands  ALA   AX           248    +358-18  Mariehamn      EUR   \n2   3         Albania  ALB   AL             8        355     Tirana      ALL   \n3   4         Algeria  DZA   DZ            12        213    Algiers      DZD   \n4   5  American Samoa  ASM   AS            16     +1-684  Pago Pago      USD   \n\n    currency_name currency_symbol  tld          native   region  \\\n0  Afghan afghani               ؋  .af       افغانستان     Asia   \n1            Euro               €  .ax           Åland   Europe   \n2    Albanian lek             Lek  .al       Shqipëria   Europe   \n3  Algerian dinar              دج  .dz         الجزائر   Africa   \n4       US Dollar               $  .as  American Samoa  Oceania   \n\n         subregion                                          timezones  \\\n0    Southern Asia  [{zoneName:'Asia\\/Kabul',gmtOffset:16200,gmtOf...   \n1  Northern Europe  [{zoneName:'Europe\\/Mariehamn',gmtOffset:7200,...   \n2  Southern Europe  [{zoneName:'Europe\\/Tirane',gmtOffset:3600,gmt...   \n3  Northern Africa  [{zoneName:'Africa\\/Algiers',gmtOffset:3600,gm...   \n4        Polynesia  [{zoneName:'Pacific\\/Pago_Pago',gmtOffset:-396...   \n\n    latitude  longitude emoji           emojiU  \n0  33.000000       65.0    🇦🇫  U+1F1E6 U+1F1EB  \n1  60.116667       19.9    🇦🇽  U+1F1E6 U+1F1FD  \n2  41.000000       20.0    🇦🇱  U+1F1E6 U+1F1F1  \n3  28.000000        3.0    🇩🇿  U+1F1E9 U+1F1FF  \n4 -14.333333     -170.0    🇦🇸  U+1F1E6 U+1F1F8  ",
      "text/html": "<div>\n<style scoped>\n    .dataframe tbody tr th:only-of-type {\n        vertical-align: middle;\n    }\n\n    .dataframe tbody tr th {\n        vertical-align: top;\n    }\n\n    .dataframe thead th {\n        text-align: right;\n    }\n</style>\n<table border=\"1\" class=\"dataframe\">\n  <thead>\n    <tr style=\"text-align: right;\">\n      <th></th>\n      <th>id</th>\n      <th>name</th>\n      <th>iso3</th>\n      <th>iso2</th>\n      <th>numeric_code</th>\n      <th>phone_code</th>\n      <th>capital</th>\n      <th>currency</th>\n      <th>currency_name</th>\n      <th>currency_symbol</th>\n      <th>tld</th>\n      <th>native</th>\n      <th>region</th>\n      <th>subregion</th>\n      <th>timezones</th>\n      <th>latitude</th>\n      <th>longitude</th>\n      <th>emoji</th>\n      <th>emojiU</th>\n    </tr>\n  </thead>\n  <tbody>\n    <tr>\n      <th>0</th>\n      <td>1</td>\n      <td>Afghanistan</td>\n      <td>AFG</td>\n      <td>AF</td>\n      <td>4</td>\n      <td>93</td>\n      <td>Kabul</td>\n      <td>AFN</td>\n      <td>Afghan afghani</td>\n      <td>؋</td>\n      <td>.af</td>\n      <td>افغانستان</td>\n      <td>Asia</td>\n      <td>Southern Asia</td>\n      <td>[{zoneName:'Asia\\/Kabul',gmtOffset:16200,gmtOf...</td>\n      <td>33.000000</td>\n      <td>65.0</td>\n      <td>🇦🇫</td>\n      <td>U+1F1E6 U+1F1EB</td>\n    </tr>\n    <tr>\n      <th>1</th>\n      <td>2</td>\n      <td>Aland Islands</td>\n      <td>ALA</td>\n      <td>AX</td>\n      <td>248</td>\n      <td>+358-18</td>\n      <td>Mariehamn</td>\n      <td>EUR</td>\n      <td>Euro</td>\n      <td>€</td>\n      <td>.ax</td>\n      <td>Åland</td>\n      <td>Europe</td>\n      <td>Northern Europe</td>\n      <td>[{zoneName:'Europe\\/Mariehamn',gmtOffset:7200,...</td>\n      <td>60.116667</td>\n      <td>19.9</td>\n      <td>🇦🇽</td>\n      <td>U+1F1E6 U+1F1FD</td>\n    </tr>\n    <tr>\n      <th>2</th>\n      <td>3</td>\n      <td>Albania</td>\n      <td>ALB</td>\n      <td>AL</td>\n      <td>8</td>\n      <td>355</td>\n      <td>Tirana</td>\n      <td>ALL</td>\n      <td>Albanian lek</td>\n      <td>Lek</td>\n      <td>.al</td>\n      <td>Shqipëria</td>\n      <td>Europe</td>\n      <td>Southern Europe</td>\n      <td>[{zoneName:'Europe\\/Tirane',gmtOffset:3600,gmt...</td>\n      <td>41.000000</td>\n      <td>20.0</td>\n      <td>🇦🇱</td>\n      <td>U+1F1E6 U+1F1F1</td>\n    </tr>\n    <tr>\n      <th>3</th>\n      <td>4</td>\n      <td>Algeria</td>\n      <td>DZA</td>\n      <td>DZ</td>\n      <td>12</td>\n      <td>213</td>\n      <td>Algiers</td>\n      <td>DZD</td>\n      <td>Algerian dinar</td>\n      <td>دج</td>\n      <td>.dz</td>\n      <td>الجزائر</td>\n      <td>Africa</td>\n      <td>Northern Africa</td>\n      <td>[{zoneName:'Africa\\/Algiers',gmtOffset:3600,gm...</td>\n      <td>28.000000</td>\n      <td>3.0</td>\n      <td>🇩🇿</td>\n      <td>U+1F1E9 U+1F1FF</td>\n    </tr>\n    <tr>\n      <th>4</th>\n      <td>5</td>\n      <td>American Samoa</td>\n      <td>ASM</td>\n      <td>AS</td>\n      <td>16</td>\n      <td>+1-684</td>\n      <td>Pago Pago</td>\n      <td>USD</td>\n      <td>US Dollar</td>\n      <td>$</td>\n      <td>.as</td>\n      <td>American Samoa</td>\n      <td>Oceania</td>\n      <td>Polynesia</td>\n      <td>[{zoneName:'Pacific\\/Pago_Pago',gmtOffset:-396...</td>\n      <td>-14.333333</td>\n      <td>-170.0</td>\n      <td>🇦🇸</td>\n      <td>U+1F1E6 U+1F1F8</td>\n    </tr>\n  </tbody>\n</table>\n</div>"
     },
     "execution_count": 1,
     "metadata": {},
     "output_type": "execute_result"
    }
   ],
   "source": [
    "import pandas as pd\n",
    "\n",
    "from geocoding import settings\n",
    "\n",
    "df = pd.read_csv(settings.DATASETS_DIR / \"geolocations\" / \"countries.csv\")\n",
    "\n",
    "df.head()"
   ],
   "metadata": {
    "collapsed": false,
    "pycharm": {
     "name": "#%%\n"
    }
   }
  },
  {
   "cell_type": "markdown",
   "source": [
    "Leave only desired columns (coordinates, information about countries)"
   ],
   "metadata": {
    "collapsed": false,
    "pycharm": {
     "name": "#%% md\n"
    }
   }
  },
  {
   "cell_type": "code",
   "execution_count": 2,
   "outputs": [
    {
     "data": {
      "text/plain": "    latitude  longitude            name iso3\n0  33.000000       65.0     Afghanistan  AFG\n1  60.116667       19.9   Aland Islands  ALA\n2  41.000000       20.0         Albania  ALB\n3  28.000000        3.0         Algeria  DZA\n4 -14.333333     -170.0  American Samoa  ASM",
      "text/html": "<div>\n<style scoped>\n    .dataframe tbody tr th:only-of-type {\n        vertical-align: middle;\n    }\n\n    .dataframe tbody tr th {\n        vertical-align: top;\n    }\n\n    .dataframe thead th {\n        text-align: right;\n    }\n</style>\n<table border=\"1\" class=\"dataframe\">\n  <thead>\n    <tr style=\"text-align: right;\">\n      <th></th>\n      <th>latitude</th>\n      <th>longitude</th>\n      <th>name</th>\n      <th>iso3</th>\n    </tr>\n  </thead>\n  <tbody>\n    <tr>\n      <th>0</th>\n      <td>33.000000</td>\n      <td>65.0</td>\n      <td>Afghanistan</td>\n      <td>AFG</td>\n    </tr>\n    <tr>\n      <th>1</th>\n      <td>60.116667</td>\n      <td>19.9</td>\n      <td>Aland Islands</td>\n      <td>ALA</td>\n    </tr>\n    <tr>\n      <th>2</th>\n      <td>41.000000</td>\n      <td>20.0</td>\n      <td>Albania</td>\n      <td>ALB</td>\n    </tr>\n    <tr>\n      <th>3</th>\n      <td>28.000000</td>\n      <td>3.0</td>\n      <td>Algeria</td>\n      <td>DZA</td>\n    </tr>\n    <tr>\n      <th>4</th>\n      <td>-14.333333</td>\n      <td>-170.0</td>\n      <td>American Samoa</td>\n      <td>ASM</td>\n    </tr>\n  </tbody>\n</table>\n</div>"
     },
     "execution_count": 2,
     "metadata": {},
     "output_type": "execute_result"
    }
   ],
   "source": [
    "source_df = df[[\"latitude\", \"longitude\", \"name\", \"iso3\"]].dropna()\n",
    "source_df.head()"
   ],
   "metadata": {
    "collapsed": false,
    "pycharm": {
     "name": "#%%\n"
    }
   }
  },
  {
   "cell_type": "markdown",
   "source": [
    "Extract coordinates into a separate list"
   ],
   "metadata": {
    "collapsed": false,
    "pycharm": {
     "name": "#%% md\n"
    }
   }
  },
  {
   "cell_type": "code",
   "execution_count": 3,
   "outputs": [],
   "source": [
    "points = list(zip(source_df[\"latitude\"], source_df[\"longitude\"]))"
   ],
   "metadata": {
    "collapsed": false,
    "pycharm": {
     "name": "#%%\n"
    }
   }
  },
  {
   "cell_type": "markdown",
   "source": [
    "Run reverse geocoding for these points"
   ],
   "metadata": {
    "collapsed": false,
    "pycharm": {
     "name": "#%% md\n"
    }
   }
  },
  {
   "cell_type": "code",
   "execution_count": 4,
   "outputs": [
    {
     "name": "stderr",
     "output_type": "stream",
     "text": [
      "2022-05-26 20:00:47.185 | INFO     | geocoding.scylla.session:get_session:21 - Connecting to Scylla cluster: ['127.0.0.1'] (keyspace: geo)\n",
      "2022-05-26 20:00:47.270 | INFO     | geocoding.scylla.session:get_session:30 - Connected to Scylla cluster.\n",
      "2022-05-26 20:00:47.270 | DEBUG    | geocoding.scylla.session:get_session:33 - Remote cluster supports shard awareness.\n"
     ]
    }
   ],
   "source": [
    "from geocoding.geocoder import get_countries_by_points\n",
    "\n",
    "countries = get_countries_by_points(points)"
   ],
   "metadata": {
    "collapsed": false,
    "pycharm": {
     "name": "#%%\n"
    }
   }
  },
  {
   "cell_type": "code",
   "execution_count": 5,
   "outputs": [
    {
     "data": {
      "text/plain": "    latitude  longitude country_name country_code\n0  33.000000       65.0  Afghanistan          AFG\n1  60.116667       19.9        Åland          ALA\n2  41.000000       20.0      Albania          ALB\n3  28.000000        3.0      Algeria          DZA\n4 -14.333333     -170.0         None         None",
      "text/html": "<div>\n<style scoped>\n    .dataframe tbody tr th:only-of-type {\n        vertical-align: middle;\n    }\n\n    .dataframe tbody tr th {\n        vertical-align: top;\n    }\n\n    .dataframe thead th {\n        text-align: right;\n    }\n</style>\n<table border=\"1\" class=\"dataframe\">\n  <thead>\n    <tr style=\"text-align: right;\">\n      <th></th>\n      <th>latitude</th>\n      <th>longitude</th>\n      <th>country_name</th>\n      <th>country_code</th>\n    </tr>\n  </thead>\n  <tbody>\n    <tr>\n      <th>0</th>\n      <td>33.000000</td>\n      <td>65.0</td>\n      <td>Afghanistan</td>\n      <td>AFG</td>\n    </tr>\n    <tr>\n      <th>1</th>\n      <td>60.116667</td>\n      <td>19.9</td>\n      <td>Åland</td>\n      <td>ALA</td>\n    </tr>\n    <tr>\n      <th>2</th>\n      <td>41.000000</td>\n      <td>20.0</td>\n      <td>Albania</td>\n      <td>ALB</td>\n    </tr>\n    <tr>\n      <th>3</th>\n      <td>28.000000</td>\n      <td>3.0</td>\n      <td>Algeria</td>\n      <td>DZA</td>\n    </tr>\n    <tr>\n      <th>4</th>\n      <td>-14.333333</td>\n      <td>-170.0</td>\n      <td>None</td>\n      <td>None</td>\n    </tr>\n  </tbody>\n</table>\n</div>"
     },
     "execution_count": 5,
     "metadata": {},
     "output_type": "execute_result"
    }
   ],
   "source": [
    "result_df = pd.DataFrame(\n",
    "    [\n",
    "        (\n",
    "            *point,\n",
    "            c.name if (c := countries[point]) else None,\n",
    "            c.code if c else None,\n",
    "        )\n",
    "        for point in points\n",
    "    ],\n",
    "    columns=[\"latitude\", \"longitude\", \"country_name\", \"country_code\"],\n",
    ")\n",
    "result_df.head()"
   ],
   "metadata": {
    "collapsed": false,
    "pycharm": {
     "name": "#%%\n"
    }
   }
  },
  {
   "cell_type": "markdown",
   "source": [
    "Merge two dataset on coordinates"
   ],
   "metadata": {
    "collapsed": false,
    "pycharm": {
     "name": "#%% md\n"
    }
   }
  },
  {
   "cell_type": "code",
   "execution_count": 6,
   "outputs": [
    {
     "data": {
      "text/plain": "    latitude  longitude            name iso3 country_name country_code\n0  33.000000       65.0     Afghanistan  AFG  Afghanistan          AFG\n1  60.116667       19.9   Aland Islands  ALA        Åland          ALA\n2  41.000000       20.0         Albania  ALB      Albania          ALB\n3  28.000000        3.0         Algeria  DZA      Algeria          DZA\n4 -14.333333     -170.0  American Samoa  ASM         None         None",
      "text/html": "<div>\n<style scoped>\n    .dataframe tbody tr th:only-of-type {\n        vertical-align: middle;\n    }\n\n    .dataframe tbody tr th {\n        vertical-align: top;\n    }\n\n    .dataframe thead th {\n        text-align: right;\n    }\n</style>\n<table border=\"1\" class=\"dataframe\">\n  <thead>\n    <tr style=\"text-align: right;\">\n      <th></th>\n      <th>latitude</th>\n      <th>longitude</th>\n      <th>name</th>\n      <th>iso3</th>\n      <th>country_name</th>\n      <th>country_code</th>\n    </tr>\n  </thead>\n  <tbody>\n    <tr>\n      <th>0</th>\n      <td>33.000000</td>\n      <td>65.0</td>\n      <td>Afghanistan</td>\n      <td>AFG</td>\n      <td>Afghanistan</td>\n      <td>AFG</td>\n    </tr>\n    <tr>\n      <th>1</th>\n      <td>60.116667</td>\n      <td>19.9</td>\n      <td>Aland Islands</td>\n      <td>ALA</td>\n      <td>Åland</td>\n      <td>ALA</td>\n    </tr>\n    <tr>\n      <th>2</th>\n      <td>41.000000</td>\n      <td>20.0</td>\n      <td>Albania</td>\n      <td>ALB</td>\n      <td>Albania</td>\n      <td>ALB</td>\n    </tr>\n    <tr>\n      <th>3</th>\n      <td>28.000000</td>\n      <td>3.0</td>\n      <td>Algeria</td>\n      <td>DZA</td>\n      <td>Algeria</td>\n      <td>DZA</td>\n    </tr>\n    <tr>\n      <th>4</th>\n      <td>-14.333333</td>\n      <td>-170.0</td>\n      <td>American Samoa</td>\n      <td>ASM</td>\n      <td>None</td>\n      <td>None</td>\n    </tr>\n  </tbody>\n</table>\n</div>"
     },
     "execution_count": 6,
     "metadata": {},
     "output_type": "execute_result"
    }
   ],
   "source": [
    "merged_df = pd.merge(\n",
    "    source_df, result_df, on=[\"latitude\", \"longitude\"], suffixes=(\"_source\", \"_result\")\n",
    ")\n",
    "merged_df.head()"
   ],
   "metadata": {
    "collapsed": false,
    "pycharm": {
     "name": "#%%\n"
    }
   }
  },
  {
   "cell_type": "markdown",
   "source": [
    "Evaluate results"
   ],
   "metadata": {
    "collapsed": false,
    "pycharm": {
     "name": "#%% md\n"
    }
   }
  },
  {
   "cell_type": "code",
   "execution_count": 7,
   "outputs": [
    {
     "name": "stdout",
     "output_type": "stream",
     "text": [
      "Failed (nulls): 35/250 (14.00%)\n",
      "Wrong: 5/250 (2.00%)\n",
      "Correct: 210/250 (84.00%)\n"
     ]
    }
   ],
   "source": [
    "total_num = len(merged_df)\n",
    "nulls_num = sum(merged_df[\"country_code\"].isnull())\n",
    "wrong_num = sum(\n",
    "    (~merged_df[\"country_code\"].isnull())\n",
    "    & (merged_df[\"iso3\"] != merged_df[\"country_code\"])\n",
    ")\n",
    "correct_num = total_num - nulls_num - wrong_num\n",
    "print(f\"Failed (nulls): {nulls_num}/{total_num} ({nulls_num / total_num * 100:.2f}%)\")\n",
    "print(f\"Wrong: {wrong_num}/{total_num} ({wrong_num / total_num * 100:.2f}%)\")\n",
    "print(f\"Correct: {correct_num}/{total_num} ({correct_num / total_num * 100:.2f}%)\")"
   ],
   "metadata": {
    "collapsed": false,
    "pycharm": {
     "name": "#%%\n"
    }
   }
  },
  {
   "cell_type": "markdown",
   "source": [
    "Show points reverse geocoded incorrectly"
   ],
   "metadata": {
    "collapsed": false,
    "pycharm": {
     "name": "#%% md\n"
    }
   }
  },
  {
   "cell_type": "code",
   "execution_count": 8,
   "outputs": [
    {
     "data": {
      "text/plain": "      latitude   longitude                                  name iso3  \\\n4   -14.333333 -170.000000                        American Samoa  ASM   \n7    18.250000  -63.166667                              Anguilla  AIA   \n8   -74.650000    4.480000                            Antarctica  ATA   \n16   24.250000  -76.000000                           Bahamas The  BHS   \n32   -6.000000   71.500000        British Indian Ocean Territory  IOT   \n40   16.000000  -24.000000                            Cape Verde  CPV   \n41   19.500000  -80.500000                        Cayman Islands  CYM   \n47  -12.500000   96.833333               Cocos (Keeling) Islands  CCK   \n49  -12.166667   44.250000                               Comoros  COM   \n55   21.500000  -80.000000                                  Cuba  CUB   \n56   12.116667  -68.933333                               Curaçao  CUW   \n72  -51.750000  -59.000000                      Falkland Islands  FLK   \n73   62.000000   -7.000000                         Faroe Islands  FRO   \n74  -18.000000  175.000000                          Fiji Islands  FJI   \n78  -15.000000 -140.000000                      French Polynesia  PYF   \n81   13.466667  -16.566667                            Gambia The  GMB   \n97  -53.100000   72.516667     Heard Island and McDonald Islands  HMD   \n111  49.250000   -2.166667                                Jersey  JEY   \n115   1.416667  173.000000                              Kiribati  KIR   \n116  42.561291   20.340304                                Kosovo  XKX   \n117  29.500000   45.750000                                Kuwait  KWT   \n133   3.250000   73.000000                              Maldives  MDV   \n135  35.833333   14.583333                                 Malta  MLT   \n137   9.000000  168.000000                      Marshall Islands  MHL   \n145  43.733333    7.400000                                Monaco  MCO   \n174  13.000000  122.000000                           Philippines  PHL   \n189  18.500000  -63.416667                      Saint-Barthelemy  BLM   \n190  18.083333  -63.950000            Saint-Martin (French part)  MAF   \n192  43.766667   12.416667                            San Marino  SMR   \n193   1.000000    7.000000                 Sao Tome and Principe  STP   \n197  -4.583333   55.666667                            Seychelles  SYC   \n206 -54.500000  -37.000000                         South Georgia  SGS   \n213  78.000000   20.000000        Svalbard And Jan Mayen Islands  SJM   \n223  -9.000000 -172.000000                               Tokelau  TKL   \n224 -20.000000 -175.000000                                 Tonga  TON   \n225  11.000000  -61.000000                   Trinidad And Tobago  TTO   \n230  -8.000000  178.000000                                Tuvalu  TUV   \n236   0.000000    0.000000  United States Minor Outlying Islands  UMI   \n239 -16.000000  167.000000                               Vanuatu  VUT   \n240  41.900000   12.450000         Vatican City State (Holy See)  VAT   \n\n    country_name country_code  \n4           None         None  \n7           None         None  \n8           None         None  \n16          None         None  \n32          None         None  \n40          None         None  \n41          None         None  \n47          None         None  \n49          None         None  \n55          None         None  \n56          None         None  \n72          None         None  \n73          None         None  \n74          None         None  \n78          None         None  \n81          None         None  \n97          None         None  \n111         None         None  \n115         None         None  \n116       Kosovo          XKO  \n117         Iraq          IRQ  \n133         None         None  \n135         None         None  \n137         None         None  \n145       France          FRA  \n174         None         None  \n189         None         None  \n190         None         None  \n192        Italy          ITA  \n193         None         None  \n197         None         None  \n206         None         None  \n213         None         None  \n223         None         None  \n224         None         None  \n225         None         None  \n230         None         None  \n236         None         None  \n239         None         None  \n240        Italy          ITA  ",
      "text/html": "<div>\n<style scoped>\n    .dataframe tbody tr th:only-of-type {\n        vertical-align: middle;\n    }\n\n    .dataframe tbody tr th {\n        vertical-align: top;\n    }\n\n    .dataframe thead th {\n        text-align: right;\n    }\n</style>\n<table border=\"1\" class=\"dataframe\">\n  <thead>\n    <tr style=\"text-align: right;\">\n      <th></th>\n      <th>latitude</th>\n      <th>longitude</th>\n      <th>name</th>\n      <th>iso3</th>\n      <th>country_name</th>\n      <th>country_code</th>\n    </tr>\n  </thead>\n  <tbody>\n    <tr>\n      <th>4</th>\n      <td>-14.333333</td>\n      <td>-170.000000</td>\n      <td>American Samoa</td>\n      <td>ASM</td>\n      <td>None</td>\n      <td>None</td>\n    </tr>\n    <tr>\n      <th>7</th>\n      <td>18.250000</td>\n      <td>-63.166667</td>\n      <td>Anguilla</td>\n      <td>AIA</td>\n      <td>None</td>\n      <td>None</td>\n    </tr>\n    <tr>\n      <th>8</th>\n      <td>-74.650000</td>\n      <td>4.480000</td>\n      <td>Antarctica</td>\n      <td>ATA</td>\n      <td>None</td>\n      <td>None</td>\n    </tr>\n    <tr>\n      <th>16</th>\n      <td>24.250000</td>\n      <td>-76.000000</td>\n      <td>Bahamas The</td>\n      <td>BHS</td>\n      <td>None</td>\n      <td>None</td>\n    </tr>\n    <tr>\n      <th>32</th>\n      <td>-6.000000</td>\n      <td>71.500000</td>\n      <td>British Indian Ocean Territory</td>\n      <td>IOT</td>\n      <td>None</td>\n      <td>None</td>\n    </tr>\n    <tr>\n      <th>40</th>\n      <td>16.000000</td>\n      <td>-24.000000</td>\n      <td>Cape Verde</td>\n      <td>CPV</td>\n      <td>None</td>\n      <td>None</td>\n    </tr>\n    <tr>\n      <th>41</th>\n      <td>19.500000</td>\n      <td>-80.500000</td>\n      <td>Cayman Islands</td>\n      <td>CYM</td>\n      <td>None</td>\n      <td>None</td>\n    </tr>\n    <tr>\n      <th>47</th>\n      <td>-12.500000</td>\n      <td>96.833333</td>\n      <td>Cocos (Keeling) Islands</td>\n      <td>CCK</td>\n      <td>None</td>\n      <td>None</td>\n    </tr>\n    <tr>\n      <th>49</th>\n      <td>-12.166667</td>\n      <td>44.250000</td>\n      <td>Comoros</td>\n      <td>COM</td>\n      <td>None</td>\n      <td>None</td>\n    </tr>\n    <tr>\n      <th>55</th>\n      <td>21.500000</td>\n      <td>-80.000000</td>\n      <td>Cuba</td>\n      <td>CUB</td>\n      <td>None</td>\n      <td>None</td>\n    </tr>\n    <tr>\n      <th>56</th>\n      <td>12.116667</td>\n      <td>-68.933333</td>\n      <td>Curaçao</td>\n      <td>CUW</td>\n      <td>None</td>\n      <td>None</td>\n    </tr>\n    <tr>\n      <th>72</th>\n      <td>-51.750000</td>\n      <td>-59.000000</td>\n      <td>Falkland Islands</td>\n      <td>FLK</td>\n      <td>None</td>\n      <td>None</td>\n    </tr>\n    <tr>\n      <th>73</th>\n      <td>62.000000</td>\n      <td>-7.000000</td>\n      <td>Faroe Islands</td>\n      <td>FRO</td>\n      <td>None</td>\n      <td>None</td>\n    </tr>\n    <tr>\n      <th>74</th>\n      <td>-18.000000</td>\n      <td>175.000000</td>\n      <td>Fiji Islands</td>\n      <td>FJI</td>\n      <td>None</td>\n      <td>None</td>\n    </tr>\n    <tr>\n      <th>78</th>\n      <td>-15.000000</td>\n      <td>-140.000000</td>\n      <td>French Polynesia</td>\n      <td>PYF</td>\n      <td>None</td>\n      <td>None</td>\n    </tr>\n    <tr>\n      <th>81</th>\n      <td>13.466667</td>\n      <td>-16.566667</td>\n      <td>Gambia The</td>\n      <td>GMB</td>\n      <td>None</td>\n      <td>None</td>\n    </tr>\n    <tr>\n      <th>97</th>\n      <td>-53.100000</td>\n      <td>72.516667</td>\n      <td>Heard Island and McDonald Islands</td>\n      <td>HMD</td>\n      <td>None</td>\n      <td>None</td>\n    </tr>\n    <tr>\n      <th>111</th>\n      <td>49.250000</td>\n      <td>-2.166667</td>\n      <td>Jersey</td>\n      <td>JEY</td>\n      <td>None</td>\n      <td>None</td>\n    </tr>\n    <tr>\n      <th>115</th>\n      <td>1.416667</td>\n      <td>173.000000</td>\n      <td>Kiribati</td>\n      <td>KIR</td>\n      <td>None</td>\n      <td>None</td>\n    </tr>\n    <tr>\n      <th>116</th>\n      <td>42.561291</td>\n      <td>20.340304</td>\n      <td>Kosovo</td>\n      <td>XKX</td>\n      <td>Kosovo</td>\n      <td>XKO</td>\n    </tr>\n    <tr>\n      <th>117</th>\n      <td>29.500000</td>\n      <td>45.750000</td>\n      <td>Kuwait</td>\n      <td>KWT</td>\n      <td>Iraq</td>\n      <td>IRQ</td>\n    </tr>\n    <tr>\n      <th>133</th>\n      <td>3.250000</td>\n      <td>73.000000</td>\n      <td>Maldives</td>\n      <td>MDV</td>\n      <td>None</td>\n      <td>None</td>\n    </tr>\n    <tr>\n      <th>135</th>\n      <td>35.833333</td>\n      <td>14.583333</td>\n      <td>Malta</td>\n      <td>MLT</td>\n      <td>None</td>\n      <td>None</td>\n    </tr>\n    <tr>\n      <th>137</th>\n      <td>9.000000</td>\n      <td>168.000000</td>\n      <td>Marshall Islands</td>\n      <td>MHL</td>\n      <td>None</td>\n      <td>None</td>\n    </tr>\n    <tr>\n      <th>145</th>\n      <td>43.733333</td>\n      <td>7.400000</td>\n      <td>Monaco</td>\n      <td>MCO</td>\n      <td>France</td>\n      <td>FRA</td>\n    </tr>\n    <tr>\n      <th>174</th>\n      <td>13.000000</td>\n      <td>122.000000</td>\n      <td>Philippines</td>\n      <td>PHL</td>\n      <td>None</td>\n      <td>None</td>\n    </tr>\n    <tr>\n      <th>189</th>\n      <td>18.500000</td>\n      <td>-63.416667</td>\n      <td>Saint-Barthelemy</td>\n      <td>BLM</td>\n      <td>None</td>\n      <td>None</td>\n    </tr>\n    <tr>\n      <th>190</th>\n      <td>18.083333</td>\n      <td>-63.950000</td>\n      <td>Saint-Martin (French part)</td>\n      <td>MAF</td>\n      <td>None</td>\n      <td>None</td>\n    </tr>\n    <tr>\n      <th>192</th>\n      <td>43.766667</td>\n      <td>12.416667</td>\n      <td>San Marino</td>\n      <td>SMR</td>\n      <td>Italy</td>\n      <td>ITA</td>\n    </tr>\n    <tr>\n      <th>193</th>\n      <td>1.000000</td>\n      <td>7.000000</td>\n      <td>Sao Tome and Principe</td>\n      <td>STP</td>\n      <td>None</td>\n      <td>None</td>\n    </tr>\n    <tr>\n      <th>197</th>\n      <td>-4.583333</td>\n      <td>55.666667</td>\n      <td>Seychelles</td>\n      <td>SYC</td>\n      <td>None</td>\n      <td>None</td>\n    </tr>\n    <tr>\n      <th>206</th>\n      <td>-54.500000</td>\n      <td>-37.000000</td>\n      <td>South Georgia</td>\n      <td>SGS</td>\n      <td>None</td>\n      <td>None</td>\n    </tr>\n    <tr>\n      <th>213</th>\n      <td>78.000000</td>\n      <td>20.000000</td>\n      <td>Svalbard And Jan Mayen Islands</td>\n      <td>SJM</td>\n      <td>None</td>\n      <td>None</td>\n    </tr>\n    <tr>\n      <th>223</th>\n      <td>-9.000000</td>\n      <td>-172.000000</td>\n      <td>Tokelau</td>\n      <td>TKL</td>\n      <td>None</td>\n      <td>None</td>\n    </tr>\n    <tr>\n      <th>224</th>\n      <td>-20.000000</td>\n      <td>-175.000000</td>\n      <td>Tonga</td>\n      <td>TON</td>\n      <td>None</td>\n      <td>None</td>\n    </tr>\n    <tr>\n      <th>225</th>\n      <td>11.000000</td>\n      <td>-61.000000</td>\n      <td>Trinidad And Tobago</td>\n      <td>TTO</td>\n      <td>None</td>\n      <td>None</td>\n    </tr>\n    <tr>\n      <th>230</th>\n      <td>-8.000000</td>\n      <td>178.000000</td>\n      <td>Tuvalu</td>\n      <td>TUV</td>\n      <td>None</td>\n      <td>None</td>\n    </tr>\n    <tr>\n      <th>236</th>\n      <td>0.000000</td>\n      <td>0.000000</td>\n      <td>United States Minor Outlying Islands</td>\n      <td>UMI</td>\n      <td>None</td>\n      <td>None</td>\n    </tr>\n    <tr>\n      <th>239</th>\n      <td>-16.000000</td>\n      <td>167.000000</td>\n      <td>Vanuatu</td>\n      <td>VUT</td>\n      <td>None</td>\n      <td>None</td>\n    </tr>\n    <tr>\n      <th>240</th>\n      <td>41.900000</td>\n      <td>12.450000</td>\n      <td>Vatican City State (Holy See)</td>\n      <td>VAT</td>\n      <td>Italy</td>\n      <td>ITA</td>\n    </tr>\n  </tbody>\n</table>\n</div>"
     },
     "execution_count": 8,
     "metadata": {},
     "output_type": "execute_result"
    }
   ],
   "source": [
    "merged_df[merged_df[\"iso3\"] != merged_df[\"country_code\"]]"
   ],
   "metadata": {
    "collapsed": false,
    "pycharm": {
     "name": "#%%\n"
    }
   }
  }
 ],
 "metadata": {
  "kernelspec": {
   "display_name": "Python 3",
   "language": "python",
   "name": "python3"
  },
  "language_info": {
   "codemirror_mode": {
    "name": "ipython",
    "version": 2
   },
   "file_extension": ".py",
   "mimetype": "text/x-python",
   "name": "python",
   "nbconvert_exporter": "python",
   "pygments_lexer": "ipython2",
   "version": "2.7.6"
  }
 },
 "nbformat": 4,
 "nbformat_minor": 0
}