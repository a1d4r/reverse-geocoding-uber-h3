{
 "cells": [
  {
   "cell_type": "markdown",
   "source": [
    "## Evaluation of reverse geocoding (countries)\n",
    "\n",
    "First, download [the dataset with locations of countries](https://www.kaggle.com/datasets/liewyousheng/geolocation/code) and put csv files into `datasets/geolocations`"
   ],
   "metadata": {
    "collapsed": false,
    "pycharm": {
     "name": "#%% md\n"
    }
   }
  },
  {
   "cell_type": "code",
   "execution_count": 1,
   "outputs": [
    {
     "data": {
      "text/plain": "   id            name iso3 iso2  numeric_code phone_code    capital currency  \\\n0   1     Afghanistan  AFG   AF             4         93      Kabul      AFN   \n1   2   Aland Islands  ALA   AX           248    +358-18  Mariehamn      EUR   \n2   3         Albania  ALB   AL             8        355     Tirana      ALL   \n3   4         Algeria  DZA   DZ            12        213    Algiers      DZD   \n4   5  American Samoa  ASM   AS            16     +1-684  Pago Pago      USD   \n\n    currency_name currency_symbol  tld          native   region  \\\n0  Afghan afghani               ؋  .af       افغانستان     Asia   \n1            Euro               €  .ax           Åland   Europe   \n2    Albanian lek             Lek  .al       Shqipëria   Europe   \n3  Algerian dinar              دج  .dz         الجزائر   Africa   \n4       US Dollar               $  .as  American Samoa  Oceania   \n\n         subregion                                          timezones  \\\n0    Southern Asia  [{zoneName:'Asia\\/Kabul',gmtOffset:16200,gmtOf...   \n1  Northern Europe  [{zoneName:'Europe\\/Mariehamn',gmtOffset:7200,...   \n2  Southern Europe  [{zoneName:'Europe\\/Tirane',gmtOffset:3600,gmt...   \n3  Northern Africa  [{zoneName:'Africa\\/Algiers',gmtOffset:3600,gm...   \n4        Polynesia  [{zoneName:'Pacific\\/Pago_Pago',gmtOffset:-396...   \n\n    latitude  longitude emoji           emojiU  \n0  33.000000       65.0    🇦🇫  U+1F1E6 U+1F1EB  \n1  60.116667       19.9    🇦🇽  U+1F1E6 U+1F1FD  \n2  41.000000       20.0    🇦🇱  U+1F1E6 U+1F1F1  \n3  28.000000        3.0    🇩🇿  U+1F1E9 U+1F1FF  \n4 -14.333333     -170.0    🇦🇸  U+1F1E6 U+1F1F8  ",
      "text/html": "<div>\n<style scoped>\n    .dataframe tbody tr th:only-of-type {\n        vertical-align: middle;\n    }\n\n    .dataframe tbody tr th {\n        vertical-align: top;\n    }\n\n    .dataframe thead th {\n        text-align: right;\n    }\n</style>\n<table border=\"1\" class=\"dataframe\">\n  <thead>\n    <tr style=\"text-align: right;\">\n      <th></th>\n      <th>id</th>\n      <th>name</th>\n      <th>iso3</th>\n      <th>iso2</th>\n      <th>numeric_code</th>\n      <th>phone_code</th>\n      <th>capital</th>\n      <th>currency</th>\n      <th>currency_name</th>\n      <th>currency_symbol</th>\n      <th>tld</th>\n      <th>native</th>\n      <th>region</th>\n      <th>subregion</th>\n      <th>timezones</th>\n      <th>latitude</th>\n      <th>longitude</th>\n      <th>emoji</th>\n      <th>emojiU</th>\n    </tr>\n  </thead>\n  <tbody>\n    <tr>\n      <th>0</th>\n      <td>1</td>\n      <td>Afghanistan</td>\n      <td>AFG</td>\n      <td>AF</td>\n      <td>4</td>\n      <td>93</td>\n      <td>Kabul</td>\n      <td>AFN</td>\n      <td>Afghan afghani</td>\n      <td>؋</td>\n      <td>.af</td>\n      <td>افغانستان</td>\n      <td>Asia</td>\n      <td>Southern Asia</td>\n      <td>[{zoneName:'Asia\\/Kabul',gmtOffset:16200,gmtOf...</td>\n      <td>33.000000</td>\n      <td>65.0</td>\n      <td>🇦🇫</td>\n      <td>U+1F1E6 U+1F1EB</td>\n    </tr>\n    <tr>\n      <th>1</th>\n      <td>2</td>\n      <td>Aland Islands</td>\n      <td>ALA</td>\n      <td>AX</td>\n      <td>248</td>\n      <td>+358-18</td>\n      <td>Mariehamn</td>\n      <td>EUR</td>\n      <td>Euro</td>\n      <td>€</td>\n      <td>.ax</td>\n      <td>Åland</td>\n      <td>Europe</td>\n      <td>Northern Europe</td>\n      <td>[{zoneName:'Europe\\/Mariehamn',gmtOffset:7200,...</td>\n      <td>60.116667</td>\n      <td>19.9</td>\n      <td>🇦🇽</td>\n      <td>U+1F1E6 U+1F1FD</td>\n    </tr>\n    <tr>\n      <th>2</th>\n      <td>3</td>\n      <td>Albania</td>\n      <td>ALB</td>\n      <td>AL</td>\n      <td>8</td>\n      <td>355</td>\n      <td>Tirana</td>\n      <td>ALL</td>\n      <td>Albanian lek</td>\n      <td>Lek</td>\n      <td>.al</td>\n      <td>Shqipëria</td>\n      <td>Europe</td>\n      <td>Southern Europe</td>\n      <td>[{zoneName:'Europe\\/Tirane',gmtOffset:3600,gmt...</td>\n      <td>41.000000</td>\n      <td>20.0</td>\n      <td>🇦🇱</td>\n      <td>U+1F1E6 U+1F1F1</td>\n    </tr>\n    <tr>\n      <th>3</th>\n      <td>4</td>\n      <td>Algeria</td>\n      <td>DZA</td>\n      <td>DZ</td>\n      <td>12</td>\n      <td>213</td>\n      <td>Algiers</td>\n      <td>DZD</td>\n      <td>Algerian dinar</td>\n      <td>دج</td>\n      <td>.dz</td>\n      <td>الجزائر</td>\n      <td>Africa</td>\n      <td>Northern Africa</td>\n      <td>[{zoneName:'Africa\\/Algiers',gmtOffset:3600,gm...</td>\n      <td>28.000000</td>\n      <td>3.0</td>\n      <td>🇩🇿</td>\n      <td>U+1F1E9 U+1F1FF</td>\n    </tr>\n    <tr>\n      <th>4</th>\n      <td>5</td>\n      <td>American Samoa</td>\n      <td>ASM</td>\n      <td>AS</td>\n      <td>16</td>\n      <td>+1-684</td>\n      <td>Pago Pago</td>\n      <td>USD</td>\n      <td>US Dollar</td>\n      <td>$</td>\n      <td>.as</td>\n      <td>American Samoa</td>\n      <td>Oceania</td>\n      <td>Polynesia</td>\n      <td>[{zoneName:'Pacific\\/Pago_Pago',gmtOffset:-396...</td>\n      <td>-14.333333</td>\n      <td>-170.0</td>\n      <td>🇦🇸</td>\n      <td>U+1F1E6 U+1F1F8</td>\n    </tr>\n  </tbody>\n</table>\n</div>"
     },
     "execution_count": 1,
     "metadata": {},
     "output_type": "execute_result"
    }
   ],
   "source": [
    "import pandas as pd\n",
    "\n",
    "from geocoding import settings\n",
    "\n",
    "df = pd.read_csv(settings.DATASETS_DIR / \"geolocations\" / \"countries.csv\")\n",
    "\n",
    "df.head()"
   ],
   "metadata": {
    "collapsed": false,
    "pycharm": {
     "name": "#%%\n"
    }
   }
  },
  {
   "cell_type": "markdown",
   "source": [
    "Leave only desired columns (coordinates, information about countries)"
   ],
   "metadata": {
    "collapsed": false,
    "pycharm": {
     "name": "#%% md\n"
    }
   }
  },
  {
   "cell_type": "code",
   "execution_count": 2,
   "outputs": [
    {
     "data": {
      "text/plain": "    latitude  longitude            name iso3\n0  33.000000       65.0     Afghanistan  AFG\n1  60.116667       19.9   Aland Islands  ALA\n2  41.000000       20.0         Albania  ALB\n3  28.000000        3.0         Algeria  DZA\n4 -14.333333     -170.0  American Samoa  ASM",
      "text/html": "<div>\n<style scoped>\n    .dataframe tbody tr th:only-of-type {\n        vertical-align: middle;\n    }\n\n    .dataframe tbody tr th {\n        vertical-align: top;\n    }\n\n    .dataframe thead th {\n        text-align: right;\n    }\n</style>\n<table border=\"1\" class=\"dataframe\">\n  <thead>\n    <tr style=\"text-align: right;\">\n      <th></th>\n      <th>latitude</th>\n      <th>longitude</th>\n      <th>name</th>\n      <th>iso3</th>\n    </tr>\n  </thead>\n  <tbody>\n    <tr>\n      <th>0</th>\n      <td>33.000000</td>\n      <td>65.0</td>\n      <td>Afghanistan</td>\n      <td>AFG</td>\n    </tr>\n    <tr>\n      <th>1</th>\n      <td>60.116667</td>\n      <td>19.9</td>\n      <td>Aland Islands</td>\n      <td>ALA</td>\n    </tr>\n    <tr>\n      <th>2</th>\n      <td>41.000000</td>\n      <td>20.0</td>\n      <td>Albania</td>\n      <td>ALB</td>\n    </tr>\n    <tr>\n      <th>3</th>\n      <td>28.000000</td>\n      <td>3.0</td>\n      <td>Algeria</td>\n      <td>DZA</td>\n    </tr>\n    <tr>\n      <th>4</th>\n      <td>-14.333333</td>\n      <td>-170.0</td>\n      <td>American Samoa</td>\n      <td>ASM</td>\n    </tr>\n  </tbody>\n</table>\n</div>"
     },
     "execution_count": 2,
     "metadata": {},
     "output_type": "execute_result"
    }
   ],
   "source": [
    "source_df = df[[\"latitude\", \"longitude\", \"name\", \"iso3\"]].dropna()\n",
    "source_df.head()"
   ],
   "metadata": {
    "collapsed": false,
    "pycharm": {
     "name": "#%%\n"
    }
   }
  },
  {
   "cell_type": "markdown",
   "source": [
    "Extract coordinates into a separate list"
   ],
   "metadata": {
    "collapsed": false,
    "pycharm": {
     "name": "#%% md\n"
    }
   }
  },
  {
   "cell_type": "code",
   "execution_count": 3,
   "outputs": [],
   "source": [
    "points = list(zip(source_df[\"latitude\"], source_df[\"longitude\"]))"
   ],
   "metadata": {
    "collapsed": false,
    "pycharm": {
     "name": "#%%\n"
    }
   }
  },
  {
   "cell_type": "markdown",
   "source": [
    "Run reverse geocoding for these points"
   ],
   "metadata": {
    "collapsed": false,
    "pycharm": {
     "name": "#%% md\n"
    }
   }
  },
  {
   "cell_type": "code",
   "execution_count": 4,
   "outputs": [
    {
     "name": "stderr",
     "output_type": "stream",
     "text": [
      "2022-05-11 23:02:41.207 | INFO     | geocoding.scylla.session:get_session:21 - Connecting to Scylla cluster: ['127.0.0.1'] (keyspace: geo)\n",
      "2022-05-11 23:02:41.236 | INFO     | geocoding.scylla.session:get_session:30 - Connected to Scylla cluster.\n",
      "2022-05-11 23:02:41.237 | DEBUG    | geocoding.scylla.session:get_session:33 - Remote cluster supports shard awareness.\n"
     ]
    }
   ],
   "source": [
    "from geocoding.geocoder import get_countries_by_points\n",
    "\n",
    "countries = get_countries_by_points(points)"
   ],
   "metadata": {
    "collapsed": false,
    "pycharm": {
     "name": "#%%\n"
    }
   }
  },
  {
   "cell_type": "code",
   "execution_count": 5,
   "outputs": [
    {
     "data": {
      "text/plain": "    latitude  longitude country_name country_code\n0  33.000000       65.0  Afghanistan          AFG\n1  60.116667       19.9        Åland          ALA\n2  41.000000       20.0      Albania          ALB\n3  28.000000        3.0      Algeria          DZA\n4 -14.333333     -170.0         None         None",
      "text/html": "<div>\n<style scoped>\n    .dataframe tbody tr th:only-of-type {\n        vertical-align: middle;\n    }\n\n    .dataframe tbody tr th {\n        vertical-align: top;\n    }\n\n    .dataframe thead th {\n        text-align: right;\n    }\n</style>\n<table border=\"1\" class=\"dataframe\">\n  <thead>\n    <tr style=\"text-align: right;\">\n      <th></th>\n      <th>latitude</th>\n      <th>longitude</th>\n      <th>country_name</th>\n      <th>country_code</th>\n    </tr>\n  </thead>\n  <tbody>\n    <tr>\n      <th>0</th>\n      <td>33.000000</td>\n      <td>65.0</td>\n      <td>Afghanistan</td>\n      <td>AFG</td>\n    </tr>\n    <tr>\n      <th>1</th>\n      <td>60.116667</td>\n      <td>19.9</td>\n      <td>Åland</td>\n      <td>ALA</td>\n    </tr>\n    <tr>\n      <th>2</th>\n      <td>41.000000</td>\n      <td>20.0</td>\n      <td>Albania</td>\n      <td>ALB</td>\n    </tr>\n    <tr>\n      <th>3</th>\n      <td>28.000000</td>\n      <td>3.0</td>\n      <td>Algeria</td>\n      <td>DZA</td>\n    </tr>\n    <tr>\n      <th>4</th>\n      <td>-14.333333</td>\n      <td>-170.0</td>\n      <td>None</td>\n      <td>None</td>\n    </tr>\n  </tbody>\n</table>\n</div>"
     },
     "execution_count": 5,
     "metadata": {},
     "output_type": "execute_result"
    }
   ],
   "source": [
    "result_df = pd.DataFrame(\n",
    "    [\n",
    "        (\n",
    "            *point,\n",
    "            c.name if (c := countries[point]) else None,\n",
    "            c.code if c else None,\n",
    "        )\n",
    "        for point in points\n",
    "    ],\n",
    "    columns=[\"latitude\", \"longitude\", \"country_name\", \"country_code\"],\n",
    ")\n",
    "result_df.head()"
   ],
   "metadata": {
    "collapsed": false,
    "pycharm": {
     "name": "#%%\n"
    }
   }
  },
  {
   "cell_type": "markdown",
   "source": [
    "Merge two dataset on coordinates"
   ],
   "metadata": {
    "collapsed": false,
    "pycharm": {
     "name": "#%% md\n"
    }
   }
  },
  {
   "cell_type": "code",
   "execution_count": 6,
   "outputs": [
    {
     "data": {
      "text/plain": "    latitude  longitude            name iso3 country_name country_code\n0  33.000000       65.0     Afghanistan  AFG  Afghanistan          AFG\n1  60.116667       19.9   Aland Islands  ALA        Åland          ALA\n2  41.000000       20.0         Albania  ALB      Albania          ALB\n3  28.000000        3.0         Algeria  DZA      Algeria          DZA\n4 -14.333333     -170.0  American Samoa  ASM         None         None",
      "text/html": "<div>\n<style scoped>\n    .dataframe tbody tr th:only-of-type {\n        vertical-align: middle;\n    }\n\n    .dataframe tbody tr th {\n        vertical-align: top;\n    }\n\n    .dataframe thead th {\n        text-align: right;\n    }\n</style>\n<table border=\"1\" class=\"dataframe\">\n  <thead>\n    <tr style=\"text-align: right;\">\n      <th></th>\n      <th>latitude</th>\n      <th>longitude</th>\n      <th>name</th>\n      <th>iso3</th>\n      <th>country_name</th>\n      <th>country_code</th>\n    </tr>\n  </thead>\n  <tbody>\n    <tr>\n      <th>0</th>\n      <td>33.000000</td>\n      <td>65.0</td>\n      <td>Afghanistan</td>\n      <td>AFG</td>\n      <td>Afghanistan</td>\n      <td>AFG</td>\n    </tr>\n    <tr>\n      <th>1</th>\n      <td>60.116667</td>\n      <td>19.9</td>\n      <td>Aland Islands</td>\n      <td>ALA</td>\n      <td>Åland</td>\n      <td>ALA</td>\n    </tr>\n    <tr>\n      <th>2</th>\n      <td>41.000000</td>\n      <td>20.0</td>\n      <td>Albania</td>\n      <td>ALB</td>\n      <td>Albania</td>\n      <td>ALB</td>\n    </tr>\n    <tr>\n      <th>3</th>\n      <td>28.000000</td>\n      <td>3.0</td>\n      <td>Algeria</td>\n      <td>DZA</td>\n      <td>Algeria</td>\n      <td>DZA</td>\n    </tr>\n    <tr>\n      <th>4</th>\n      <td>-14.333333</td>\n      <td>-170.0</td>\n      <td>American Samoa</td>\n      <td>ASM</td>\n      <td>None</td>\n      <td>None</td>\n    </tr>\n  </tbody>\n</table>\n</div>"
     },
     "execution_count": 6,
     "metadata": {},
     "output_type": "execute_result"
    }
   ],
   "source": [
    "merged_df = pd.merge(\n",
    "    source_df, result_df, on=[\"latitude\", \"longitude\"], suffixes=(\"_source\", \"_result\")\n",
    ")\n",
    "merged_df.head()"
   ],
   "metadata": {
    "collapsed": false,
    "pycharm": {
     "name": "#%%\n"
    }
   }
  },
  {
   "cell_type": "markdown",
   "source": [
    "Evaluate results"
   ],
   "metadata": {
    "collapsed": false,
    "pycharm": {
     "name": "#%% md\n"
    }
   }
  },
  {
   "cell_type": "code",
   "execution_count": 7,
   "outputs": [
    {
     "name": "stdout",
     "output_type": "stream",
     "text": [
      "Failed (nulls): 58/250\n",
      "Wrong: 5/250\n",
      "Correct: 187/250 (74.80%)\n"
     ]
    }
   ],
   "source": [
    "total_num = len(merged_df)\n",
    "nulls_num = sum(merged_df[\"country_code\"].isnull())\n",
    "wrong_num = sum(\n",
    "    (~merged_df[\"country_code\"].isnull())\n",
    "    & (merged_df[\"iso3\"] != merged_df[\"country_code\"])\n",
    ")\n",
    "correct_num = total_num - nulls_num - wrong_num\n",
    "print(f\"Failed (nulls): {nulls_num}/{total_num}\")\n",
    "print(f\"Wrong: {wrong_num}/{total_num}\")\n",
    "print(f\"Correct: {correct_num}/{total_num} ({correct_num / total_num * 100:.2f}%)\")"
   ],
   "metadata": {
    "collapsed": false,
    "pycharm": {
     "name": "#%%\n"
    }
   }
  },
  {
   "cell_type": "markdown",
   "source": [
    "Show points reverse geocoded incorrectly"
   ],
   "metadata": {
    "collapsed": false,
    "pycharm": {
     "name": "#%% md\n"
    }
   }
  },
  {
   "cell_type": "code",
   "execution_count": 8,
   "outputs": [
    {
     "data": {
      "text/plain": "      latitude   longitude                       name iso3 country_name  \\\n4   -14.333333 -170.000000             American Samoa  ASM         None   \n5    42.500000    1.500000                    Andorra  AND        Spain   \n7    18.250000  -63.166667                   Anguilla  AIA         None   \n16   24.250000  -76.000000                Bahamas The  BHS         None   \n30  -54.433333    3.400000              Bouvet Island  BVT         None   \n..         ...         ...                        ...  ...          ...   \n244  18.340000  -64.930000        Virgin Islands (US)  VIR         None   \n245 -13.300000 -176.200000  Wallis And Futuna Islands  WLF         None   \n247  15.000000   48.000000                      Yemen  YEM         None   \n248 -15.000000   30.000000                     Zambia  ZMB         None   \n249 -20.000000   30.000000                   Zimbabwe  ZWE         None   \n\n    country_code  \n4           None  \n5            ESP  \n7           None  \n16          None  \n30          None  \n..           ...  \n244         None  \n245         None  \n247         None  \n248         None  \n249         None  \n\n[63 rows x 6 columns]",
      "text/html": "<div>\n<style scoped>\n    .dataframe tbody tr th:only-of-type {\n        vertical-align: middle;\n    }\n\n    .dataframe tbody tr th {\n        vertical-align: top;\n    }\n\n    .dataframe thead th {\n        text-align: right;\n    }\n</style>\n<table border=\"1\" class=\"dataframe\">\n  <thead>\n    <tr style=\"text-align: right;\">\n      <th></th>\n      <th>latitude</th>\n      <th>longitude</th>\n      <th>name</th>\n      <th>iso3</th>\n      <th>country_name</th>\n      <th>country_code</th>\n    </tr>\n  </thead>\n  <tbody>\n    <tr>\n      <th>4</th>\n      <td>-14.333333</td>\n      <td>-170.000000</td>\n      <td>American Samoa</td>\n      <td>ASM</td>\n      <td>None</td>\n      <td>None</td>\n    </tr>\n    <tr>\n      <th>5</th>\n      <td>42.500000</td>\n      <td>1.500000</td>\n      <td>Andorra</td>\n      <td>AND</td>\n      <td>Spain</td>\n      <td>ESP</td>\n    </tr>\n    <tr>\n      <th>7</th>\n      <td>18.250000</td>\n      <td>-63.166667</td>\n      <td>Anguilla</td>\n      <td>AIA</td>\n      <td>None</td>\n      <td>None</td>\n    </tr>\n    <tr>\n      <th>16</th>\n      <td>24.250000</td>\n      <td>-76.000000</td>\n      <td>Bahamas The</td>\n      <td>BHS</td>\n      <td>None</td>\n      <td>None</td>\n    </tr>\n    <tr>\n      <th>30</th>\n      <td>-54.433333</td>\n      <td>3.400000</td>\n      <td>Bouvet Island</td>\n      <td>BVT</td>\n      <td>None</td>\n      <td>None</td>\n    </tr>\n    <tr>\n      <th>...</th>\n      <td>...</td>\n      <td>...</td>\n      <td>...</td>\n      <td>...</td>\n      <td>...</td>\n      <td>...</td>\n    </tr>\n    <tr>\n      <th>244</th>\n      <td>18.340000</td>\n      <td>-64.930000</td>\n      <td>Virgin Islands (US)</td>\n      <td>VIR</td>\n      <td>None</td>\n      <td>None</td>\n    </tr>\n    <tr>\n      <th>245</th>\n      <td>-13.300000</td>\n      <td>-176.200000</td>\n      <td>Wallis And Futuna Islands</td>\n      <td>WLF</td>\n      <td>None</td>\n      <td>None</td>\n    </tr>\n    <tr>\n      <th>247</th>\n      <td>15.000000</td>\n      <td>48.000000</td>\n      <td>Yemen</td>\n      <td>YEM</td>\n      <td>None</td>\n      <td>None</td>\n    </tr>\n    <tr>\n      <th>248</th>\n      <td>-15.000000</td>\n      <td>30.000000</td>\n      <td>Zambia</td>\n      <td>ZMB</td>\n      <td>None</td>\n      <td>None</td>\n    </tr>\n    <tr>\n      <th>249</th>\n      <td>-20.000000</td>\n      <td>30.000000</td>\n      <td>Zimbabwe</td>\n      <td>ZWE</td>\n      <td>None</td>\n      <td>None</td>\n    </tr>\n  </tbody>\n</table>\n<p>63 rows × 6 columns</p>\n</div>"
     },
     "execution_count": 8,
     "metadata": {},
     "output_type": "execute_result"
    }
   ],
   "source": [
    "merged_df[merged_df[\"iso3\"] != merged_df[\"country_code\"]]"
   ],
   "metadata": {
    "collapsed": false,
    "pycharm": {
     "name": "#%%\n"
    }
   }
  }
 ],
 "metadata": {
  "kernelspec": {
   "display_name": "Python 3",
   "language": "python",
   "name": "python3"
  },
  "language_info": {
   "codemirror_mode": {
    "name": "ipython",
    "version": 2
   },
   "file_extension": ".py",
   "mimetype": "text/x-python",
   "name": "python",
   "nbconvert_exporter": "python",
   "pygments_lexer": "ipython2",
   "version": "2.7.6"
  }
 },
 "nbformat": 4,
 "nbformat_minor": 0
}