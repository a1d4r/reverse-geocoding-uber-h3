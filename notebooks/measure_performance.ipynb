{
 "cells": [
  {
   "cell_type": "code",
   "execution_count": 1,
   "outputs": [],
   "source": [
    "from random import uniform\n",
    "\n",
    "\n",
    "def generate_random_coordinates():\n",
    "    \"\"\"Return a pair (lat, lon)\"\"\"\n",
    "    return uniform(-90, 90), uniform(-180, 180)"
   ],
   "metadata": {
    "collapsed": false,
    "pycharm": {
     "name": "#%%\n"
    }
   }
  },
  {
   "cell_type": "code",
   "execution_count": 2,
   "outputs": [
    {
     "data": {
      "text/plain": "(0.5106128504681777, -88.33560787672036)"
     },
     "execution_count": 2,
     "metadata": {},
     "output_type": "execute_result"
    }
   ],
   "source": [
    "generate_random_coordinates()"
   ],
   "metadata": {
    "collapsed": false,
    "pycharm": {
     "name": "#%%\n"
    }
   }
  },
  {
   "cell_type": "code",
   "execution_count": 3,
   "outputs": [
    {
     "name": "stderr",
     "output_type": "stream",
     "text": [
      "2022-05-26 20:53:58.809 | INFO     | geocoding.scylla.session:get_session:21 - Connecting to Scylla cluster: ['127.0.0.1'] (keyspace: geo)\n",
      "2022-05-26 20:53:58.864 | INFO     | geocoding.scylla.session:get_session:30 - Connected to Scylla cluster.\n",
      "2022-05-26 20:53:58.865 | DEBUG    | geocoding.scylla.session:get_session:33 - Remote cluster supports shard awareness.\n"
     ]
    },
    {
     "name": "stdout",
     "output_type": "stream",
     "text": [
      "Elapsed: 346.82 s (RPS: 2883.35)\n"
     ]
    }
   ],
   "source": [
    "from geocoding.geocoder import get_countries_by_points, get_countries_subdivisions_by_points\n",
    "import time\n",
    "\n",
    "NUM_POINTS = 1_000_000\n",
    "\n",
    "points = [generate_random_coordinates() for _ in range(NUM_POINTS)]\n",
    "\n",
    "start = time.time()\n",
    "get_countries_by_points(points)\n",
    "get_countries_subdivisions_by_points(points)\n",
    "elapsed = time.time() - start\n",
    "rps = NUM_POINTS / elapsed\n",
    "print(f\"Elapsed: {elapsed:.2f} s (RPS: {rps:.2f})\")"
   ],
   "metadata": {
    "collapsed": false,
    "pycharm": {
     "name": "#%%\n"
    }
   }
  },
  {
   "cell_type": "code",
   "execution_count": 3,
   "outputs": [],
   "source": [],
   "metadata": {
    "collapsed": false,
    "pycharm": {
     "name": "#%%\n"
    }
   }
  }
 ],
 "metadata": {
  "kernelspec": {
   "display_name": "Python 3",
   "language": "python",
   "name": "python3"
  },
  "language_info": {
   "codemirror_mode": {
    "name": "ipython",
    "version": 2
   },
   "file_extension": ".py",
   "mimetype": "text/x-python",
   "name": "python",
   "nbconvert_exporter": "python",
   "pygments_lexer": "ipython2",
   "version": "2.7.6"
  }
 },
 "nbformat": 4,
 "nbformat_minor": 0
}