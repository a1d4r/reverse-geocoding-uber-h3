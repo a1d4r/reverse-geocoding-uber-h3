{
 "cells": [
  {
   "cell_type": "markdown",
   "source": [
    "List all layers available in GADM dataset"
   ],
   "metadata": {
    "collapsed": false,
    "pycharm": {
     "name": "#%% md\n"
    }
   }
  },
  {
   "cell_type": "code",
   "execution_count": 13,
   "metadata": {
    "collapsed": true,
    "pycharm": {
     "name": "#%%\n"
    }
   },
   "outputs": [
    {
     "name": "stdout",
     "output_type": "stream",
     "text": [
      "gadm36_5 51427\n",
      "gadm36_4 138053\n",
      "gadm36_0 256\n",
      "gadm36_1 3610\n",
      "gadm36_3 147427\n",
      "gadm36_2 45962\n"
     ]
    }
   ],
   "source": [
    "import fiona as fiona\n",
    "\n",
    "gadm_path = '/Users/a-garikhanov/Documents/gadm36_levels_shp'\n",
    "\n",
    "for layername in fiona.listlayers(gadm_path):\n",
    "    with fiona.open(gadm_path, layer=layername) as src:\n",
    "        print(layername, len(src))"
   ]
  },
  {
   "cell_type": "code",
   "execution_count": 14,
   "outputs": [
    {
     "name": "stdout",
     "output_type": "stream",
     "text": [
      "OrderedDict([('GID_0', 'ABW'), ('NAME_0', 'Aruba')])\n",
      "OrderedDict([('GID_0', 'AFG'), ('NAME_0', 'Afghanistan')])\n",
      "OrderedDict([('GID_0', 'AGO'), ('NAME_0', 'Angola')])\n",
      "OrderedDict([('GID_0', 'AIA'), ('NAME_0', 'Anguilla')])\n"
     ]
    }
   ],
   "source": [
    "layer_name = 'gadm36_0'  # countries\n",
    "\n",
    "with fiona.open(gadm_path, layer=layer_name) as src:\n",
    "    i = 0\n",
    "    for obj in src:\n",
    "        i += 1\n",
    "        print(obj['properties'])\n",
    "        # print(obj['properties']['GID_0'])\n",
    "        # print(obj['properties']['NAME_0'])\n",
    "        if i > 3:\n",
    "            break"
   ],
   "metadata": {
    "collapsed": false,
    "pycharm": {
     "name": "#%%\n"
    }
   }
  },
  {
   "cell_type": "code",
   "execution_count": null,
   "outputs": [],
   "source": [],
   "metadata": {
    "collapsed": false,
    "pycharm": {
     "name": "#%%\n"
    }
   }
  }
 ],
 "metadata": {
  "kernelspec": {
   "display_name": "Python 3",
   "language": "python",
   "name": "python3"
  },
  "language_info": {
   "codemirror_mode": {
    "name": "ipython",
    "version": 2
   },
   "file_extension": ".py",
   "mimetype": "text/x-python",
   "name": "python",
   "nbconvert_exporter": "python",
   "pygments_lexer": "ipython2",
   "version": "2.7.6"
  }
 },
 "nbformat": 4,
 "nbformat_minor": 0
}